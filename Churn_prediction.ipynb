{
  "cells": [
    {
      "cell_type": "code",
      "source": [
        "from google.colab import drive\n",
        "drive.mount(\"/content/drive\")"
      ],
      "metadata": {
        "colab": {
          "base_uri": "https://localhost:8080/"
        },
        "id": "7LqZ_TFz3_In",
        "outputId": "5ddcebff-b822-4b5b-9176-a628d1cb3ee8"
      },
      "id": "7LqZ_TFz3_In",
      "execution_count": null,
      "outputs": [
        {
          "output_type": "stream",
          "name": "stdout",
          "text": [
            "Mounted at /content/drive\n"
          ]
        }
      ]
    },
    {
      "cell_type": "code",
      "execution_count": null,
      "id": "f7537acc",
      "metadata": {
        "id": "f7537acc"
      },
      "outputs": [],
      "source": [
        "import pandas as pd\n",
        "import numpy as np\n",
        "import matplotlib.pyplot as ply\n",
        "import seaborn as sns\n",
        "\n",
        "from sklearn.linear_model import LogisticRegression\n",
        "from sklearn.tree import DecisionTreeClassifier\n",
        "from sklearn.ensemble import RandomForestClassifier\n",
        "from sklearn.metrics import accuracy_score, f1_score, precision_score, recall_score\n",
        "from sklearn.metrics import confusion_matrix,roc_auc_score,roc_curve, classification_report, precision_recall_curve\n",
        "from sklearn.model_selection import train_test_split,cross_val_predict,StratifiedKFold, GridSearchCV, RandomizedSearchCV\n",
        "\n",
        "from collections import  Counter"
      ]
    },
    {
      "cell_type": "code",
      "execution_count": null,
      "id": "644edcac",
      "metadata": {
        "id": "644edcac"
      },
      "outputs": [],
      "source": [
        "df = pd.read_csv(\"/content/drive/MyDrive/Projects /churn prediction/train2.csv\")"
      ]
    },
    {
      "cell_type": "code",
      "execution_count": null,
      "id": "1d2cd565",
      "metadata": {
        "colab": {
          "base_uri": "https://localhost:8080/"
        },
        "id": "1d2cd565",
        "outputId": "4bba0ebf-26da-432c-f761-7ae3895685a9"
      },
      "outputs": [
        {
          "output_type": "execute_result",
          "data": {
            "text/plain": [
              "(28382, 21)"
            ]
          },
          "metadata": {},
          "execution_count": 4
        }
      ],
      "source": [
        "df.shape"
      ]
    },
    {
      "cell_type": "code",
      "execution_count": null,
      "id": "ef32158c",
      "metadata": {
        "colab": {
          "base_uri": "https://localhost:8080/"
        },
        "id": "ef32158c",
        "outputId": "4664f768-c745-4d90-94e0-4c6402fac602"
      },
      "outputs": [
        {
          "output_type": "execute_result",
          "data": {
            "text/plain": [
              "Index(['customer_id', 'vintage', 'age', 'gender', 'dependents', 'occupation',\n",
              "       'city', 'customer_nw_category', 'branch_code', 'current_balance',\n",
              "       'previous_month_end_balance', 'average_monthly_balance_prevQ',\n",
              "       'average_monthly_balance_prevQ2', 'current_month_credit',\n",
              "       'previous_month_credit', 'current_month_debit', 'previous_month_debit',\n",
              "       'current_month_balance', 'previous_month_balance', 'churn',\n",
              "       'last_transaction'],\n",
              "      dtype='object')"
            ]
          },
          "metadata": {},
          "execution_count": 5
        }
      ],
      "source": [
        "df.columns"
      ]
    },
    {
      "cell_type": "code",
      "execution_count": null,
      "id": "d34ecd1b",
      "metadata": {
        "colab": {
          "base_uri": "https://localhost:8080/"
        },
        "id": "d34ecd1b",
        "outputId": "ec72982a-aea3-4d5e-a7fd-6a463ed907e4"
      },
      "outputs": [
        {
          "output_type": "execute_result",
          "data": {
            "text/plain": [
              "0    23122\n",
              "1     5260\n",
              "Name: churn, dtype: int64"
            ]
          },
          "metadata": {},
          "execution_count": 6
        }
      ],
      "source": [
        "df[\"churn\"].value_counts()"
      ]
    },
    {
      "cell_type": "markdown",
      "id": "476195cc",
      "metadata": {
        "id": "476195cc"
      },
      "source": [
        "### Data Preprocessing"
      ]
    },
    {
      "cell_type": "code",
      "execution_count": null,
      "id": "f486c70f",
      "metadata": {
        "colab": {
          "base_uri": "https://localhost:8080/"
        },
        "id": "f486c70f",
        "outputId": "f4b89a09-dd7e-4243-cd52-6bd369662710"
      },
      "outputs": [
        {
          "output_type": "execute_result",
          "data": {
            "text/plain": [
              "customer_id                          0\n",
              "vintage                              0\n",
              "age                                  0\n",
              "gender                             525\n",
              "dependents                        2463\n",
              "occupation                          80\n",
              "city                               803\n",
              "customer_nw_category                 0\n",
              "branch_code                          0\n",
              "current_balance                      0\n",
              "previous_month_end_balance           0\n",
              "average_monthly_balance_prevQ        0\n",
              "average_monthly_balance_prevQ2       0\n",
              "current_month_credit                 0\n",
              "previous_month_credit                0\n",
              "current_month_debit                  0\n",
              "previous_month_debit                 0\n",
              "current_month_balance                0\n",
              "previous_month_balance               0\n",
              "churn                                0\n",
              "last_transaction                     0\n",
              "dtype: int64"
            ]
          },
          "metadata": {},
          "execution_count": 7
        }
      ],
      "source": [
        "df.isnull().sum()"
      ]
    },
    {
      "cell_type": "code",
      "execution_count": null,
      "id": "81fce020",
      "metadata": {
        "colab": {
          "base_uri": "https://localhost:8080/",
          "height": 488
        },
        "id": "81fce020",
        "outputId": "aee16558-856f-4ce8-deba-ceccc129c345"
      },
      "outputs": [
        {
          "output_type": "execute_result",
          "data": {
            "text/plain": [
              "       customer_id  vintage  age  gender  dependents     occupation    city  \\\n",
              "0                1     2101   66    Male         0.0  self_employed   187.0   \n",
              "1                2     2348   35    Male         0.0  self_employed     NaN   \n",
              "2                4     2194   31    Male         0.0       salaried   146.0   \n",
              "3                5     2329   90     NaN         NaN  self_employed  1020.0   \n",
              "4                6     1579   42    Male         2.0  self_employed  1494.0   \n",
              "...            ...      ...  ...     ...         ...            ...     ...   \n",
              "28377        30297     2325   10  Female         0.0        student  1020.0   \n",
              "28378        30298     1537   34  Female         0.0  self_employed  1046.0   \n",
              "28379        30299     2376   47    Male         0.0       salaried  1096.0   \n",
              "28380        30300     1745   50    Male         3.0  self_employed  1219.0   \n",
              "28381        30301     1175   18    Male         0.0        student  1232.0   \n",
              "\n",
              "       customer_nw_category  branch_code  current_balance  ...  \\\n",
              "0                         2          755          1458.71  ...   \n",
              "1                         2         3214          5390.37  ...   \n",
              "2                         2           41          3913.16  ...   \n",
              "3                         2          582          2291.91  ...   \n",
              "4                         3          388           927.72  ...   \n",
              "...                     ...          ...              ...  ...   \n",
              "28377                     2         1207          1076.43  ...   \n",
              "28378                     2          223          3844.10  ...   \n",
              "28379                     2          588         65511.97  ...   \n",
              "28380                     3          274          1625.55  ...   \n",
              "28381                     2          474          2107.05  ...   \n",
              "\n",
              "       average_monthly_balance_prevQ  average_monthly_balance_prevQ2  \\\n",
              "0                            1458.71                         1449.07   \n",
              "1                            7799.26                        12419.41   \n",
              "2                            4910.17                         2815.94   \n",
              "3                            2084.54                         1006.54   \n",
              "4                            1643.31                         1871.12   \n",
              "...                              ...                             ...   \n",
              "28377                        2282.19                         2787.70   \n",
              "28378                        3668.83                         3865.55   \n",
              "28379                       53444.81                        21925.81   \n",
              "28380                        1683.20                         1857.42   \n",
              "28381                        3213.44                         4447.45   \n",
              "\n",
              "       current_month_credit  previous_month_credit  current_month_debit  \\\n",
              "0                      0.20                   0.20                 0.20   \n",
              "1                      0.56                   0.56              5486.27   \n",
              "2                      0.61                   0.61              6046.73   \n",
              "3                      0.47                   0.47                 0.47   \n",
              "4                      0.33                 714.61               588.62   \n",
              "...                     ...                    ...                  ...   \n",
              "28377                  0.30                   0.30                 0.30   \n",
              "28378                  1.71                   2.29               901.00   \n",
              "28379               4666.84                3883.06               168.23   \n",
              "28380                  0.20                   0.20                 0.20   \n",
              "28381                  0.11                   7.44               714.40   \n",
              "\n",
              "       previous_month_debit  current_month_balance  previous_month_balance  \\\n",
              "0                      0.20                1458.71                 1458.71   \n",
              "1                    100.56                6496.78                 8787.61   \n",
              "2                    259.23                5006.28                 5070.14   \n",
              "3                   2143.33                2291.91                 1669.79   \n",
              "4                   1538.06                1157.15                 1677.16   \n",
              "...                     ...                    ...                     ...   \n",
              "28377                  0.30                1076.43                 1076.43   \n",
              "28378               1014.07                3738.54                 3690.32   \n",
              "28379                 71.80               61078.50                57564.24   \n",
              "28380                  0.20                1625.55                 1625.55   \n",
              "28381               1094.09                2402.62                 3260.58   \n",
              "\n",
              "       churn  last_transaction  \n",
              "0          0        21-05-2019  \n",
              "1          0        01-11-2019  \n",
              "2          0               NaT  \n",
              "3          1        06-08-2019  \n",
              "4          1        03-11-2019  \n",
              "...      ...               ...  \n",
              "28377      0        22-10-2019  \n",
              "28378      0        17-12-2019  \n",
              "28379      1        31-12-2019  \n",
              "28380      0               NaT  \n",
              "28381      1        02-11-2019  \n",
              "\n",
              "[28382 rows x 21 columns]"
            ],
            "text/html": [
              "\n",
              "  <div id=\"df-dd67b843-6fc9-4bd9-8896-b5f91d713784\">\n",
              "    <div class=\"colab-df-container\">\n",
              "      <div>\n",
              "<style scoped>\n",
              "    .dataframe tbody tr th:only-of-type {\n",
              "        vertical-align: middle;\n",
              "    }\n",
              "\n",
              "    .dataframe tbody tr th {\n",
              "        vertical-align: top;\n",
              "    }\n",
              "\n",
              "    .dataframe thead th {\n",
              "        text-align: right;\n",
              "    }\n",
              "</style>\n",
              "<table border=\"1\" class=\"dataframe\">\n",
              "  <thead>\n",
              "    <tr style=\"text-align: right;\">\n",
              "      <th></th>\n",
              "      <th>customer_id</th>\n",
              "      <th>vintage</th>\n",
              "      <th>age</th>\n",
              "      <th>gender</th>\n",
              "      <th>dependents</th>\n",
              "      <th>occupation</th>\n",
              "      <th>city</th>\n",
              "      <th>customer_nw_category</th>\n",
              "      <th>branch_code</th>\n",
              "      <th>current_balance</th>\n",
              "      <th>...</th>\n",
              "      <th>average_monthly_balance_prevQ</th>\n",
              "      <th>average_monthly_balance_prevQ2</th>\n",
              "      <th>current_month_credit</th>\n",
              "      <th>previous_month_credit</th>\n",
              "      <th>current_month_debit</th>\n",
              "      <th>previous_month_debit</th>\n",
              "      <th>current_month_balance</th>\n",
              "      <th>previous_month_balance</th>\n",
              "      <th>churn</th>\n",
              "      <th>last_transaction</th>\n",
              "    </tr>\n",
              "  </thead>\n",
              "  <tbody>\n",
              "    <tr>\n",
              "      <th>0</th>\n",
              "      <td>1</td>\n",
              "      <td>2101</td>\n",
              "      <td>66</td>\n",
              "      <td>Male</td>\n",
              "      <td>0.0</td>\n",
              "      <td>self_employed</td>\n",
              "      <td>187.0</td>\n",
              "      <td>2</td>\n",
              "      <td>755</td>\n",
              "      <td>1458.71</td>\n",
              "      <td>...</td>\n",
              "      <td>1458.71</td>\n",
              "      <td>1449.07</td>\n",
              "      <td>0.20</td>\n",
              "      <td>0.20</td>\n",
              "      <td>0.20</td>\n",
              "      <td>0.20</td>\n",
              "      <td>1458.71</td>\n",
              "      <td>1458.71</td>\n",
              "      <td>0</td>\n",
              "      <td>21-05-2019</td>\n",
              "    </tr>\n",
              "    <tr>\n",
              "      <th>1</th>\n",
              "      <td>2</td>\n",
              "      <td>2348</td>\n",
              "      <td>35</td>\n",
              "      <td>Male</td>\n",
              "      <td>0.0</td>\n",
              "      <td>self_employed</td>\n",
              "      <td>NaN</td>\n",
              "      <td>2</td>\n",
              "      <td>3214</td>\n",
              "      <td>5390.37</td>\n",
              "      <td>...</td>\n",
              "      <td>7799.26</td>\n",
              "      <td>12419.41</td>\n",
              "      <td>0.56</td>\n",
              "      <td>0.56</td>\n",
              "      <td>5486.27</td>\n",
              "      <td>100.56</td>\n",
              "      <td>6496.78</td>\n",
              "      <td>8787.61</td>\n",
              "      <td>0</td>\n",
              "      <td>01-11-2019</td>\n",
              "    </tr>\n",
              "    <tr>\n",
              "      <th>2</th>\n",
              "      <td>4</td>\n",
              "      <td>2194</td>\n",
              "      <td>31</td>\n",
              "      <td>Male</td>\n",
              "      <td>0.0</td>\n",
              "      <td>salaried</td>\n",
              "      <td>146.0</td>\n",
              "      <td>2</td>\n",
              "      <td>41</td>\n",
              "      <td>3913.16</td>\n",
              "      <td>...</td>\n",
              "      <td>4910.17</td>\n",
              "      <td>2815.94</td>\n",
              "      <td>0.61</td>\n",
              "      <td>0.61</td>\n",
              "      <td>6046.73</td>\n",
              "      <td>259.23</td>\n",
              "      <td>5006.28</td>\n",
              "      <td>5070.14</td>\n",
              "      <td>0</td>\n",
              "      <td>NaT</td>\n",
              "    </tr>\n",
              "    <tr>\n",
              "      <th>3</th>\n",
              "      <td>5</td>\n",
              "      <td>2329</td>\n",
              "      <td>90</td>\n",
              "      <td>NaN</td>\n",
              "      <td>NaN</td>\n",
              "      <td>self_employed</td>\n",
              "      <td>1020.0</td>\n",
              "      <td>2</td>\n",
              "      <td>582</td>\n",
              "      <td>2291.91</td>\n",
              "      <td>...</td>\n",
              "      <td>2084.54</td>\n",
              "      <td>1006.54</td>\n",
              "      <td>0.47</td>\n",
              "      <td>0.47</td>\n",
              "      <td>0.47</td>\n",
              "      <td>2143.33</td>\n",
              "      <td>2291.91</td>\n",
              "      <td>1669.79</td>\n",
              "      <td>1</td>\n",
              "      <td>06-08-2019</td>\n",
              "    </tr>\n",
              "    <tr>\n",
              "      <th>4</th>\n",
              "      <td>6</td>\n",
              "      <td>1579</td>\n",
              "      <td>42</td>\n",
              "      <td>Male</td>\n",
              "      <td>2.0</td>\n",
              "      <td>self_employed</td>\n",
              "      <td>1494.0</td>\n",
              "      <td>3</td>\n",
              "      <td>388</td>\n",
              "      <td>927.72</td>\n",
              "      <td>...</td>\n",
              "      <td>1643.31</td>\n",
              "      <td>1871.12</td>\n",
              "      <td>0.33</td>\n",
              "      <td>714.61</td>\n",
              "      <td>588.62</td>\n",
              "      <td>1538.06</td>\n",
              "      <td>1157.15</td>\n",
              "      <td>1677.16</td>\n",
              "      <td>1</td>\n",
              "      <td>03-11-2019</td>\n",
              "    </tr>\n",
              "    <tr>\n",
              "      <th>...</th>\n",
              "      <td>...</td>\n",
              "      <td>...</td>\n",
              "      <td>...</td>\n",
              "      <td>...</td>\n",
              "      <td>...</td>\n",
              "      <td>...</td>\n",
              "      <td>...</td>\n",
              "      <td>...</td>\n",
              "      <td>...</td>\n",
              "      <td>...</td>\n",
              "      <td>...</td>\n",
              "      <td>...</td>\n",
              "      <td>...</td>\n",
              "      <td>...</td>\n",
              "      <td>...</td>\n",
              "      <td>...</td>\n",
              "      <td>...</td>\n",
              "      <td>...</td>\n",
              "      <td>...</td>\n",
              "      <td>...</td>\n",
              "      <td>...</td>\n",
              "    </tr>\n",
              "    <tr>\n",
              "      <th>28377</th>\n",
              "      <td>30297</td>\n",
              "      <td>2325</td>\n",
              "      <td>10</td>\n",
              "      <td>Female</td>\n",
              "      <td>0.0</td>\n",
              "      <td>student</td>\n",
              "      <td>1020.0</td>\n",
              "      <td>2</td>\n",
              "      <td>1207</td>\n",
              "      <td>1076.43</td>\n",
              "      <td>...</td>\n",
              "      <td>2282.19</td>\n",
              "      <td>2787.70</td>\n",
              "      <td>0.30</td>\n",
              "      <td>0.30</td>\n",
              "      <td>0.30</td>\n",
              "      <td>0.30</td>\n",
              "      <td>1076.43</td>\n",
              "      <td>1076.43</td>\n",
              "      <td>0</td>\n",
              "      <td>22-10-2019</td>\n",
              "    </tr>\n",
              "    <tr>\n",
              "      <th>28378</th>\n",
              "      <td>30298</td>\n",
              "      <td>1537</td>\n",
              "      <td>34</td>\n",
              "      <td>Female</td>\n",
              "      <td>0.0</td>\n",
              "      <td>self_employed</td>\n",
              "      <td>1046.0</td>\n",
              "      <td>2</td>\n",
              "      <td>223</td>\n",
              "      <td>3844.10</td>\n",
              "      <td>...</td>\n",
              "      <td>3668.83</td>\n",
              "      <td>3865.55</td>\n",
              "      <td>1.71</td>\n",
              "      <td>2.29</td>\n",
              "      <td>901.00</td>\n",
              "      <td>1014.07</td>\n",
              "      <td>3738.54</td>\n",
              "      <td>3690.32</td>\n",
              "      <td>0</td>\n",
              "      <td>17-12-2019</td>\n",
              "    </tr>\n",
              "    <tr>\n",
              "      <th>28379</th>\n",
              "      <td>30299</td>\n",
              "      <td>2376</td>\n",
              "      <td>47</td>\n",
              "      <td>Male</td>\n",
              "      <td>0.0</td>\n",
              "      <td>salaried</td>\n",
              "      <td>1096.0</td>\n",
              "      <td>2</td>\n",
              "      <td>588</td>\n",
              "      <td>65511.97</td>\n",
              "      <td>...</td>\n",
              "      <td>53444.81</td>\n",
              "      <td>21925.81</td>\n",
              "      <td>4666.84</td>\n",
              "      <td>3883.06</td>\n",
              "      <td>168.23</td>\n",
              "      <td>71.80</td>\n",
              "      <td>61078.50</td>\n",
              "      <td>57564.24</td>\n",
              "      <td>1</td>\n",
              "      <td>31-12-2019</td>\n",
              "    </tr>\n",
              "    <tr>\n",
              "      <th>28380</th>\n",
              "      <td>30300</td>\n",
              "      <td>1745</td>\n",
              "      <td>50</td>\n",
              "      <td>Male</td>\n",
              "      <td>3.0</td>\n",
              "      <td>self_employed</td>\n",
              "      <td>1219.0</td>\n",
              "      <td>3</td>\n",
              "      <td>274</td>\n",
              "      <td>1625.55</td>\n",
              "      <td>...</td>\n",
              "      <td>1683.20</td>\n",
              "      <td>1857.42</td>\n",
              "      <td>0.20</td>\n",
              "      <td>0.20</td>\n",
              "      <td>0.20</td>\n",
              "      <td>0.20</td>\n",
              "      <td>1625.55</td>\n",
              "      <td>1625.55</td>\n",
              "      <td>0</td>\n",
              "      <td>NaT</td>\n",
              "    </tr>\n",
              "    <tr>\n",
              "      <th>28381</th>\n",
              "      <td>30301</td>\n",
              "      <td>1175</td>\n",
              "      <td>18</td>\n",
              "      <td>Male</td>\n",
              "      <td>0.0</td>\n",
              "      <td>student</td>\n",
              "      <td>1232.0</td>\n",
              "      <td>2</td>\n",
              "      <td>474</td>\n",
              "      <td>2107.05</td>\n",
              "      <td>...</td>\n",
              "      <td>3213.44</td>\n",
              "      <td>4447.45</td>\n",
              "      <td>0.11</td>\n",
              "      <td>7.44</td>\n",
              "      <td>714.40</td>\n",
              "      <td>1094.09</td>\n",
              "      <td>2402.62</td>\n",
              "      <td>3260.58</td>\n",
              "      <td>1</td>\n",
              "      <td>02-11-2019</td>\n",
              "    </tr>\n",
              "  </tbody>\n",
              "</table>\n",
              "<p>28382 rows × 21 columns</p>\n",
              "</div>\n",
              "      <button class=\"colab-df-convert\" onclick=\"convertToInteractive('df-dd67b843-6fc9-4bd9-8896-b5f91d713784')\"\n",
              "              title=\"Convert this dataframe to an interactive table.\"\n",
              "              style=\"display:none;\">\n",
              "        \n",
              "  <svg xmlns=\"http://www.w3.org/2000/svg\" height=\"24px\"viewBox=\"0 0 24 24\"\n",
              "       width=\"24px\">\n",
              "    <path d=\"M0 0h24v24H0V0z\" fill=\"none\"/>\n",
              "    <path d=\"M18.56 5.44l.94 2.06.94-2.06 2.06-.94-2.06-.94-.94-2.06-.94 2.06-2.06.94zm-11 1L8.5 8.5l.94-2.06 2.06-.94-2.06-.94L8.5 2.5l-.94 2.06-2.06.94zm10 10l.94 2.06.94-2.06 2.06-.94-2.06-.94-.94-2.06-.94 2.06-2.06.94z\"/><path d=\"M17.41 7.96l-1.37-1.37c-.4-.4-.92-.59-1.43-.59-.52 0-1.04.2-1.43.59L10.3 9.45l-7.72 7.72c-.78.78-.78 2.05 0 2.83L4 21.41c.39.39.9.59 1.41.59.51 0 1.02-.2 1.41-.59l7.78-7.78 2.81-2.81c.8-.78.8-2.07 0-2.86zM5.41 20L4 18.59l7.72-7.72 1.47 1.35L5.41 20z\"/>\n",
              "  </svg>\n",
              "      </button>\n",
              "      \n",
              "  <style>\n",
              "    .colab-df-container {\n",
              "      display:flex;\n",
              "      flex-wrap:wrap;\n",
              "      gap: 12px;\n",
              "    }\n",
              "\n",
              "    .colab-df-convert {\n",
              "      background-color: #E8F0FE;\n",
              "      border: none;\n",
              "      border-radius: 50%;\n",
              "      cursor: pointer;\n",
              "      display: none;\n",
              "      fill: #1967D2;\n",
              "      height: 32px;\n",
              "      padding: 0 0 0 0;\n",
              "      width: 32px;\n",
              "    }\n",
              "\n",
              "    .colab-df-convert:hover {\n",
              "      background-color: #E2EBFA;\n",
              "      box-shadow: 0px 1px 2px rgba(60, 64, 67, 0.3), 0px 1px 3px 1px rgba(60, 64, 67, 0.15);\n",
              "      fill: #174EA6;\n",
              "    }\n",
              "\n",
              "    [theme=dark] .colab-df-convert {\n",
              "      background-color: #3B4455;\n",
              "      fill: #D2E3FC;\n",
              "    }\n",
              "\n",
              "    [theme=dark] .colab-df-convert:hover {\n",
              "      background-color: #434B5C;\n",
              "      box-shadow: 0px 1px 3px 1px rgba(0, 0, 0, 0.15);\n",
              "      filter: drop-shadow(0px 1px 2px rgba(0, 0, 0, 0.3));\n",
              "      fill: #FFFFFF;\n",
              "    }\n",
              "  </style>\n",
              "\n",
              "      <script>\n",
              "        const buttonEl =\n",
              "          document.querySelector('#df-dd67b843-6fc9-4bd9-8896-b5f91d713784 button.colab-df-convert');\n",
              "        buttonEl.style.display =\n",
              "          google.colab.kernel.accessAllowed ? 'block' : 'none';\n",
              "\n",
              "        async function convertToInteractive(key) {\n",
              "          const element = document.querySelector('#df-dd67b843-6fc9-4bd9-8896-b5f91d713784');\n",
              "          const dataTable =\n",
              "            await google.colab.kernel.invokeFunction('convertToInteractive',\n",
              "                                                     [key], {});\n",
              "          if (!dataTable) return;\n",
              "\n",
              "          const docLinkHtml = 'Like what you see? Visit the ' +\n",
              "            '<a target=\"_blank\" href=https://colab.research.google.com/notebooks/data_table.ipynb>data table notebook</a>'\n",
              "            + ' to learn more about interactive tables.';\n",
              "          element.innerHTML = '';\n",
              "          dataTable['output_type'] = 'display_data';\n",
              "          await google.colab.output.renderOutput(dataTable, element);\n",
              "          const docLink = document.createElement('div');\n",
              "          docLink.innerHTML = docLinkHtml;\n",
              "          element.appendChild(docLink);\n",
              "        }\n",
              "      </script>\n",
              "    </div>\n",
              "  </div>\n",
              "  "
            ]
          },
          "metadata": {},
          "execution_count": 8
        }
      ],
      "source": [
        "df"
      ]
    },
    {
      "cell_type": "code",
      "execution_count": null,
      "id": "a8442d29",
      "metadata": {
        "id": "a8442d29"
      },
      "outputs": [],
      "source": [
        "#Convert Gender\n",
        "dict_gender = {'Male': 1, 'Female':0}\n",
        "df.replace({'gender': dict_gender}, inplace = True)\n",
        "\n",
        "# Replace with -1 for missing gender\n",
        "df['gender'] = df['gender'].fillna(-1)\n",
        "\n",
        "# Replacing with max. occurence values\n",
        "df['dependents'] = df['dependents'].fillna(0)\n",
        "df['occupation'] = df['occupation'].fillna('self_employed')\n",
        "df['city'] = df['city'].fillna(1020)"
      ]
    },
    {
      "cell_type": "code",
      "execution_count": null,
      "id": "636eb131",
      "metadata": {
        "colab": {
          "base_uri": "https://localhost:8080/"
        },
        "id": "636eb131",
        "outputId": "4807f838-1ad4-43c5-8b79-bf55518ac2f0"
      },
      "outputs": [
        {
          "output_type": "execute_result",
          "data": {
            "text/plain": [
              "self_employed    17556\n",
              "salaried          6704\n",
              "student           2058\n",
              "retired           2024\n",
              "company             40\n",
              "Name: occupation, dtype: int64"
            ]
          },
          "metadata": {},
          "execution_count": 10
        }
      ],
      "source": [
        "df.occupation.value_counts()"
      ]
    },
    {
      "cell_type": "code",
      "execution_count": null,
      "id": "d248394b",
      "metadata": {
        "id": "d248394b"
      },
      "outputs": [],
      "source": [
        "df = pd.concat([df,pd.get_dummies(df['occupation'],prefix = str('occupation'),prefix_sep='_')],axis = 1)"
      ]
    },
    {
      "cell_type": "code",
      "execution_count": null,
      "id": "06751271",
      "metadata": {
        "colab": {
          "base_uri": "https://localhost:8080/",
          "height": 299
        },
        "id": "06751271",
        "outputId": "40777b6c-9538-4bf6-da54-5ee5338aa551"
      },
      "outputs": [
        {
          "output_type": "execute_result",
          "data": {
            "text/plain": [
              "   customer_id  vintage  age  gender  dependents     occupation    city  \\\n",
              "0            1     2101   66     1.0         0.0  self_employed   187.0   \n",
              "1            2     2348   35     1.0         0.0  self_employed  1020.0   \n",
              "2            4     2194   31     1.0         0.0       salaried   146.0   \n",
              "3            5     2329   90    -1.0         0.0  self_employed  1020.0   \n",
              "4            6     1579   42     1.0         2.0  self_employed  1494.0   \n",
              "\n",
              "   customer_nw_category  branch_code  current_balance  ...  \\\n",
              "0                     2          755          1458.71  ...   \n",
              "1                     2         3214          5390.37  ...   \n",
              "2                     2           41          3913.16  ...   \n",
              "3                     2          582          2291.91  ...   \n",
              "4                     3          388           927.72  ...   \n",
              "\n",
              "   previous_month_debit  current_month_balance  previous_month_balance  churn  \\\n",
              "0                  0.20                1458.71                 1458.71      0   \n",
              "1                100.56                6496.78                 8787.61      0   \n",
              "2                259.23                5006.28                 5070.14      0   \n",
              "3               2143.33                2291.91                 1669.79      1   \n",
              "4               1538.06                1157.15                 1677.16      1   \n",
              "\n",
              "   last_transaction  occupation_company  occupation_retired  \\\n",
              "0        21-05-2019                   0                   0   \n",
              "1        01-11-2019                   0                   0   \n",
              "2               NaT                   0                   0   \n",
              "3        06-08-2019                   0                   0   \n",
              "4        03-11-2019                   0                   0   \n",
              "\n",
              "   occupation_salaried  occupation_self_employed  occupation_student  \n",
              "0                    0                         1                   0  \n",
              "1                    0                         1                   0  \n",
              "2                    1                         0                   0  \n",
              "3                    0                         1                   0  \n",
              "4                    0                         1                   0  \n",
              "\n",
              "[5 rows x 26 columns]"
            ],
            "text/html": [
              "\n",
              "  <div id=\"df-e1887423-dcdb-4a77-b7ff-8e09cbb0ac93\">\n",
              "    <div class=\"colab-df-container\">\n",
              "      <div>\n",
              "<style scoped>\n",
              "    .dataframe tbody tr th:only-of-type {\n",
              "        vertical-align: middle;\n",
              "    }\n",
              "\n",
              "    .dataframe tbody tr th {\n",
              "        vertical-align: top;\n",
              "    }\n",
              "\n",
              "    .dataframe thead th {\n",
              "        text-align: right;\n",
              "    }\n",
              "</style>\n",
              "<table border=\"1\" class=\"dataframe\">\n",
              "  <thead>\n",
              "    <tr style=\"text-align: right;\">\n",
              "      <th></th>\n",
              "      <th>customer_id</th>\n",
              "      <th>vintage</th>\n",
              "      <th>age</th>\n",
              "      <th>gender</th>\n",
              "      <th>dependents</th>\n",
              "      <th>occupation</th>\n",
              "      <th>city</th>\n",
              "      <th>customer_nw_category</th>\n",
              "      <th>branch_code</th>\n",
              "      <th>current_balance</th>\n",
              "      <th>...</th>\n",
              "      <th>previous_month_debit</th>\n",
              "      <th>current_month_balance</th>\n",
              "      <th>previous_month_balance</th>\n",
              "      <th>churn</th>\n",
              "      <th>last_transaction</th>\n",
              "      <th>occupation_company</th>\n",
              "      <th>occupation_retired</th>\n",
              "      <th>occupation_salaried</th>\n",
              "      <th>occupation_self_employed</th>\n",
              "      <th>occupation_student</th>\n",
              "    </tr>\n",
              "  </thead>\n",
              "  <tbody>\n",
              "    <tr>\n",
              "      <th>0</th>\n",
              "      <td>1</td>\n",
              "      <td>2101</td>\n",
              "      <td>66</td>\n",
              "      <td>1.0</td>\n",
              "      <td>0.0</td>\n",
              "      <td>self_employed</td>\n",
              "      <td>187.0</td>\n",
              "      <td>2</td>\n",
              "      <td>755</td>\n",
              "      <td>1458.71</td>\n",
              "      <td>...</td>\n",
              "      <td>0.20</td>\n",
              "      <td>1458.71</td>\n",
              "      <td>1458.71</td>\n",
              "      <td>0</td>\n",
              "      <td>21-05-2019</td>\n",
              "      <td>0</td>\n",
              "      <td>0</td>\n",
              "      <td>0</td>\n",
              "      <td>1</td>\n",
              "      <td>0</td>\n",
              "    </tr>\n",
              "    <tr>\n",
              "      <th>1</th>\n",
              "      <td>2</td>\n",
              "      <td>2348</td>\n",
              "      <td>35</td>\n",
              "      <td>1.0</td>\n",
              "      <td>0.0</td>\n",
              "      <td>self_employed</td>\n",
              "      <td>1020.0</td>\n",
              "      <td>2</td>\n",
              "      <td>3214</td>\n",
              "      <td>5390.37</td>\n",
              "      <td>...</td>\n",
              "      <td>100.56</td>\n",
              "      <td>6496.78</td>\n",
              "      <td>8787.61</td>\n",
              "      <td>0</td>\n",
              "      <td>01-11-2019</td>\n",
              "      <td>0</td>\n",
              "      <td>0</td>\n",
              "      <td>0</td>\n",
              "      <td>1</td>\n",
              "      <td>0</td>\n",
              "    </tr>\n",
              "    <tr>\n",
              "      <th>2</th>\n",
              "      <td>4</td>\n",
              "      <td>2194</td>\n",
              "      <td>31</td>\n",
              "      <td>1.0</td>\n",
              "      <td>0.0</td>\n",
              "      <td>salaried</td>\n",
              "      <td>146.0</td>\n",
              "      <td>2</td>\n",
              "      <td>41</td>\n",
              "      <td>3913.16</td>\n",
              "      <td>...</td>\n",
              "      <td>259.23</td>\n",
              "      <td>5006.28</td>\n",
              "      <td>5070.14</td>\n",
              "      <td>0</td>\n",
              "      <td>NaT</td>\n",
              "      <td>0</td>\n",
              "      <td>0</td>\n",
              "      <td>1</td>\n",
              "      <td>0</td>\n",
              "      <td>0</td>\n",
              "    </tr>\n",
              "    <tr>\n",
              "      <th>3</th>\n",
              "      <td>5</td>\n",
              "      <td>2329</td>\n",
              "      <td>90</td>\n",
              "      <td>-1.0</td>\n",
              "      <td>0.0</td>\n",
              "      <td>self_employed</td>\n",
              "      <td>1020.0</td>\n",
              "      <td>2</td>\n",
              "      <td>582</td>\n",
              "      <td>2291.91</td>\n",
              "      <td>...</td>\n",
              "      <td>2143.33</td>\n",
              "      <td>2291.91</td>\n",
              "      <td>1669.79</td>\n",
              "      <td>1</td>\n",
              "      <td>06-08-2019</td>\n",
              "      <td>0</td>\n",
              "      <td>0</td>\n",
              "      <td>0</td>\n",
              "      <td>1</td>\n",
              "      <td>0</td>\n",
              "    </tr>\n",
              "    <tr>\n",
              "      <th>4</th>\n",
              "      <td>6</td>\n",
              "      <td>1579</td>\n",
              "      <td>42</td>\n",
              "      <td>1.0</td>\n",
              "      <td>2.0</td>\n",
              "      <td>self_employed</td>\n",
              "      <td>1494.0</td>\n",
              "      <td>3</td>\n",
              "      <td>388</td>\n",
              "      <td>927.72</td>\n",
              "      <td>...</td>\n",
              "      <td>1538.06</td>\n",
              "      <td>1157.15</td>\n",
              "      <td>1677.16</td>\n",
              "      <td>1</td>\n",
              "      <td>03-11-2019</td>\n",
              "      <td>0</td>\n",
              "      <td>0</td>\n",
              "      <td>0</td>\n",
              "      <td>1</td>\n",
              "      <td>0</td>\n",
              "    </tr>\n",
              "  </tbody>\n",
              "</table>\n",
              "<p>5 rows × 26 columns</p>\n",
              "</div>\n",
              "      <button class=\"colab-df-convert\" onclick=\"convertToInteractive('df-e1887423-dcdb-4a77-b7ff-8e09cbb0ac93')\"\n",
              "              title=\"Convert this dataframe to an interactive table.\"\n",
              "              style=\"display:none;\">\n",
              "        \n",
              "  <svg xmlns=\"http://www.w3.org/2000/svg\" height=\"24px\"viewBox=\"0 0 24 24\"\n",
              "       width=\"24px\">\n",
              "    <path d=\"M0 0h24v24H0V0z\" fill=\"none\"/>\n",
              "    <path d=\"M18.56 5.44l.94 2.06.94-2.06 2.06-.94-2.06-.94-.94-2.06-.94 2.06-2.06.94zm-11 1L8.5 8.5l.94-2.06 2.06-.94-2.06-.94L8.5 2.5l-.94 2.06-2.06.94zm10 10l.94 2.06.94-2.06 2.06-.94-2.06-.94-.94-2.06-.94 2.06-2.06.94z\"/><path d=\"M17.41 7.96l-1.37-1.37c-.4-.4-.92-.59-1.43-.59-.52 0-1.04.2-1.43.59L10.3 9.45l-7.72 7.72c-.78.78-.78 2.05 0 2.83L4 21.41c.39.39.9.59 1.41.59.51 0 1.02-.2 1.41-.59l7.78-7.78 2.81-2.81c.8-.78.8-2.07 0-2.86zM5.41 20L4 18.59l7.72-7.72 1.47 1.35L5.41 20z\"/>\n",
              "  </svg>\n",
              "      </button>\n",
              "      \n",
              "  <style>\n",
              "    .colab-df-container {\n",
              "      display:flex;\n",
              "      flex-wrap:wrap;\n",
              "      gap: 12px;\n",
              "    }\n",
              "\n",
              "    .colab-df-convert {\n",
              "      background-color: #E8F0FE;\n",
              "      border: none;\n",
              "      border-radius: 50%;\n",
              "      cursor: pointer;\n",
              "      display: none;\n",
              "      fill: #1967D2;\n",
              "      height: 32px;\n",
              "      padding: 0 0 0 0;\n",
              "      width: 32px;\n",
              "    }\n",
              "\n",
              "    .colab-df-convert:hover {\n",
              "      background-color: #E2EBFA;\n",
              "      box-shadow: 0px 1px 2px rgba(60, 64, 67, 0.3), 0px 1px 3px 1px rgba(60, 64, 67, 0.15);\n",
              "      fill: #174EA6;\n",
              "    }\n",
              "\n",
              "    [theme=dark] .colab-df-convert {\n",
              "      background-color: #3B4455;\n",
              "      fill: #D2E3FC;\n",
              "    }\n",
              "\n",
              "    [theme=dark] .colab-df-convert:hover {\n",
              "      background-color: #434B5C;\n",
              "      box-shadow: 0px 1px 3px 1px rgba(0, 0, 0, 0.15);\n",
              "      filter: drop-shadow(0px 1px 2px rgba(0, 0, 0, 0.3));\n",
              "      fill: #FFFFFF;\n",
              "    }\n",
              "  </style>\n",
              "\n",
              "      <script>\n",
              "        const buttonEl =\n",
              "          document.querySelector('#df-e1887423-dcdb-4a77-b7ff-8e09cbb0ac93 button.colab-df-convert');\n",
              "        buttonEl.style.display =\n",
              "          google.colab.kernel.accessAllowed ? 'block' : 'none';\n",
              "\n",
              "        async function convertToInteractive(key) {\n",
              "          const element = document.querySelector('#df-e1887423-dcdb-4a77-b7ff-8e09cbb0ac93');\n",
              "          const dataTable =\n",
              "            await google.colab.kernel.invokeFunction('convertToInteractive',\n",
              "                                                     [key], {});\n",
              "          if (!dataTable) return;\n",
              "\n",
              "          const docLinkHtml = 'Like what you see? Visit the ' +\n",
              "            '<a target=\"_blank\" href=https://colab.research.google.com/notebooks/data_table.ipynb>data table notebook</a>'\n",
              "            + ' to learn more about interactive tables.';\n",
              "          element.innerHTML = '';\n",
              "          dataTable['output_type'] = 'display_data';\n",
              "          await google.colab.output.renderOutput(dataTable, element);\n",
              "          const docLink = document.createElement('div');\n",
              "          docLink.innerHTML = docLinkHtml;\n",
              "          element.appendChild(docLink);\n",
              "        }\n",
              "      </script>\n",
              "    </div>\n",
              "  </div>\n",
              "  "
            ]
          },
          "metadata": {},
          "execution_count": 12
        }
      ],
      "source": [
        "df.head()"
      ]
    },
    {
      "cell_type": "markdown",
      "id": "722ec544",
      "metadata": {
        "id": "722ec544"
      },
      "source": [
        "### Train and Test Split"
      ]
    },
    {
      "cell_type": "code",
      "execution_count": null,
      "id": "241c419e",
      "metadata": {
        "id": "241c419e"
      },
      "outputs": [],
      "source": [
        "#x = df.drop('Attrition', axis=1)\n",
        "x = df.drop(['churn','customer_id', 'occupation', 'last_transaction'], axis=1)\n",
        "y = df['churn']\n",
        "# Splitting the data into train and test\n",
        "X_train,X_test,y_train,y_test=train_test_split(x, y, train_size=0.8, stratify = y, random_state=50)"
      ]
    },
    {
      "cell_type": "code",
      "execution_count": null,
      "id": "1c3dad07",
      "metadata": {
        "colab": {
          "base_uri": "https://localhost:8080/"
        },
        "id": "1c3dad07",
        "outputId": "85753196-9def-4ebb-b697-0d71c2a7af97"
      },
      "outputs": [
        {
          "output_type": "execute_result",
          "data": {
            "text/plain": [
              "((22705,), (5677,))"
            ]
          },
          "metadata": {},
          "execution_count": 14
        }
      ],
      "source": [
        "y_train.shape,y_test.shape"
      ]
    },
    {
      "cell_type": "code",
      "execution_count": null,
      "id": "2ae8db10",
      "metadata": {
        "colab": {
          "base_uri": "https://localhost:8080/"
        },
        "id": "2ae8db10",
        "outputId": "7f098892-3a96-4eb5-d1a3-00fd433a42db"
      },
      "outputs": [
        {
          "output_type": "execute_result",
          "data": {
            "text/plain": [
              "0    0.814691\n",
              "1    0.185309\n",
              "Name: churn, dtype: float64"
            ]
          },
          "metadata": {},
          "execution_count": 15
        }
      ],
      "source": [
        "y_test.value_counts()/len(y_test)"
      ]
    },
    {
      "cell_type": "code",
      "execution_count": null,
      "id": "886f867b",
      "metadata": {
        "id": "886f867b"
      },
      "outputs": [],
      "source": [
        "from sklearn.preprocessing import StandardScaler\n",
        "Scaler_X = StandardScaler()\n",
        "X_train = Scaler_X.fit_transform(X_train)\n",
        "X_test = Scaler_X.transform(X_test)"
      ]
    },
    {
      "cell_type": "markdown",
      "id": "b903c115",
      "metadata": {
        "id": "b903c115"
      },
      "source": [
        "### Handling class imbalance using SMOTE based techniques"
      ]
    },
    {
      "cell_type": "markdown",
      "id": "7f3bfce4",
      "metadata": {
        "id": "7f3bfce4"
      },
      "source": [
        "## SMOTE Technique"
      ]
    },
    {
      "cell_type": "code",
      "execution_count": null,
      "id": "9baaf86f",
      "metadata": {
        "colab": {
          "base_uri": "https://localhost:8080/"
        },
        "id": "9baaf86f",
        "outputId": "d3edd48b-b5d3-4928-b5b1-7c6b51991e74"
      },
      "outputs": [
        {
          "output_type": "stream",
          "name": "stdout",
          "text": [
            "Looking in indexes: https://pypi.org/simple, https://us-python.pkg.dev/colab-wheels/public/simple/\n",
            "Requirement already satisfied: imblearn in /usr/local/lib/python3.7/dist-packages (0.0)\n",
            "Requirement already satisfied: imbalanced-learn in /usr/local/lib/python3.7/dist-packages (from imblearn) (0.8.1)\n",
            "Requirement already satisfied: joblib>=0.11 in /usr/local/lib/python3.7/dist-packages (from imbalanced-learn->imblearn) (1.1.0)\n",
            "Requirement already satisfied: numpy>=1.13.3 in /usr/local/lib/python3.7/dist-packages (from imbalanced-learn->imblearn) (1.21.6)\n",
            "Requirement already satisfied: scipy>=0.19.1 in /usr/local/lib/python3.7/dist-packages (from imbalanced-learn->imblearn) (1.7.3)\n",
            "Requirement already satisfied: scikit-learn>=0.24 in /usr/local/lib/python3.7/dist-packages (from imbalanced-learn->imblearn) (1.0.2)\n",
            "Requirement already satisfied: threadpoolctl>=2.0.0 in /usr/local/lib/python3.7/dist-packages (from scikit-learn>=0.24->imbalanced-learn->imblearn) (3.1.0)\n"
          ]
        }
      ],
      "source": [
        "!pip install imblearn"
      ]
    },
    {
      "cell_type": "code",
      "execution_count": null,
      "id": "765e138c",
      "metadata": {
        "scrolled": true,
        "colab": {
          "base_uri": "https://localhost:8080/"
        },
        "id": "765e138c",
        "outputId": "a6f81405-fa46-4cfe-bb1e-8016a3d3f6d8"
      },
      "outputs": [
        {
          "output_type": "stream",
          "name": "stdout",
          "text": [
            "Before Counter({0: 18497, 1: 4208})\n",
            "After Counter({0: 18497, 1: 18497})\n"
          ]
        }
      ],
      "source": [
        "from imblearn.over_sampling import SMOTE\n",
        "\n",
        "counter = Counter(y_train)\n",
        "print('Before',counter)\n",
        "# oversampling the train dataset using SMOTE\n",
        "smt = SMOTE()\n",
        "#X_train, y_train = smt.fit_resample(X_train, y_train)\n",
        "X_train_sm, y_train_sm = smt.fit_resample(X_train, y_train)\n",
        "\n",
        "counter = Counter(y_train_sm)\n",
        "print('After',counter)"
      ]
    },
    {
      "cell_type": "markdown",
      "source": [
        "B) ADASYN Technique"
      ],
      "metadata": {
        "id": "b8ea3b05"
      },
      "id": "b8ea3b05"
    },
    {
      "cell_type": "code",
      "execution_count": null,
      "id": "0558896f",
      "metadata": {
        "colab": {
          "base_uri": "https://localhost:8080/"
        },
        "id": "0558896f",
        "outputId": "84f7a337-6fa4-4a8c-88d9-814599b4158d"
      },
      "outputs": [
        {
          "output_type": "stream",
          "name": "stdout",
          "text": [
            "Before Counter({0: 18497, 1: 4208})\n",
            "After Counter({0: 18497, 1: 18067})\n"
          ]
        }
      ],
      "source": [
        "from imblearn.over_sampling import ADASYN\n",
        "\n",
        "counter = Counter(y_train)\n",
        "print('Before',counter)\n",
        "# oversampling the train dataset using ADASYN\n",
        "ada = ADASYN(random_state=130)\n",
        "X_train_ada, y_train_ada = ada.fit_resample(X_train, y_train)\n",
        "\n",
        "counter = Counter(y_train_ada)\n",
        "print('After',counter)"
      ]
    },
    {
      "cell_type": "markdown",
      "source": [
        "C) Hybrid Techniques"
      ],
      "metadata": {
        "id": "91fr6ei45e8_"
      },
      "id": "91fr6ei45e8_"
    },
    {
      "cell_type": "markdown",
      "source": [
        "SMOTE + Tomek Links"
      ],
      "metadata": {
        "id": "ktn5GQLF5jFf"
      },
      "id": "ktn5GQLF5jFf"
    },
    {
      "cell_type": "code",
      "source": [
        "from imblearn.combine import SMOTETomek\n",
        "\n",
        "counter = Counter(y_train)\n",
        "print('Before',counter)\n",
        "# oversampling the train dataset using SMOTE + Tomek\n",
        "smtom = SMOTETomek(random_state=139)\n",
        "X_train_smtom, y_train_smtom = smtom.fit_resample(X_train, y_train)\n",
        "\n",
        "counter = Counter(y_train_smtom)\n",
        "print('After',counter)"
      ],
      "metadata": {
        "colab": {
          "base_uri": "https://localhost:8080/"
        },
        "id": "r3oo1jTl5n4I",
        "outputId": "96b29b2c-4afb-4e50-d83c-9d1c7b1f00b0"
      },
      "id": "r3oo1jTl5n4I",
      "execution_count": null,
      "outputs": [
        {
          "output_type": "stream",
          "name": "stdout",
          "text": [
            "Before Counter({0: 18497, 1: 4208})\n",
            "After Counter({0: 18122, 1: 18122})\n"
          ]
        }
      ]
    },
    {
      "cell_type": "markdown",
      "source": [
        "SMOTE + ENN"
      ],
      "metadata": {
        "id": "CEmdk7M65p4J"
      },
      "id": "CEmdk7M65p4J"
    },
    {
      "cell_type": "code",
      "source": [
        "from imblearn.combine import SMOTEENN\n",
        "\n",
        "counter = Counter(y_train)\n",
        "print('Before',counter)\n",
        "# oversampling the train dataset using SMOTE + ENN\n",
        "smenn = SMOTEENN()\n",
        "X_train_smenn, y_train_smenn = smenn.fit_resample(X_train, y_train)\n",
        "\n",
        "counter = Counter(y_train_smenn)\n",
        "print('After',counter)"
      ],
      "metadata": {
        "colab": {
          "base_uri": "https://localhost:8080/"
        },
        "id": "1UMSht__5vPz",
        "outputId": "74bee23d-8585-4c9e-d14e-8a15a2d1dda8"
      },
      "id": "1UMSht__5vPz",
      "execution_count": null,
      "outputs": [
        {
          "output_type": "stream",
          "name": "stdout",
          "text": [
            "Before Counter({0: 18497, 1: 4208})\n",
            "After Counter({1: 14811, 0: 9142})\n"
          ]
        }
      ]
    },
    {
      "cell_type": "markdown",
      "source": [
        "Model Building - Imbalanced data"
      ],
      "metadata": {
        "id": "0BqlfMq35xKq"
      },
      "id": "0BqlfMq35xKq"
    },
    {
      "cell_type": "code",
      "source": [
        "model = list()\n",
        "resample = list()\n",
        "precision = list()\n",
        "recall = list()\n",
        "F1score = list()\n",
        "AUCROC = list()"
      ],
      "metadata": {
        "id": "y1cgLi4k509p"
      },
      "id": "y1cgLi4k509p",
      "execution_count": null,
      "outputs": []
    },
    {
      "cell_type": "code",
      "source": [
        "def test_eval(clf_model, X_test, y_test, algo=None, sampling=None):\n",
        "    # Test set prediction\n",
        "    y_prob=clf_model.predict_proba(X_test)\n",
        "    y_pred=clf_model.predict(X_test)\n",
        "\n",
        "    print('Confusion Matrix')\n",
        "    print('='*60)\n",
        "    print(confusion_matrix(y_test,y_pred),\"\\n\")\n",
        "    print('Classification Report')\n",
        "    print('='*60)\n",
        "    print(classification_report(y_test,y_pred),\"\\n\")\n",
        "    print('AUC-ROC')\n",
        "    print('='*60)\n",
        "    print(roc_auc_score(y_test, y_prob[:,1]))\n",
        "          \n",
        "    model.append(algo)\n",
        "    precision.append(precision_score(y_test,y_pred))\n",
        "    recall.append(recall_score(y_test,y_pred))\n",
        "    F1score.append(f1_score(y_test,y_pred))\n",
        "    AUCROC.append(roc_auc_score(y_test, y_prob[:,1]))\n",
        "    resample.append(sampling)"
      ],
      "metadata": {
        "id": "LvgmwyH-53JH"
      },
      "id": "LvgmwyH-53JH",
      "execution_count": null,
      "outputs": []
    },
    {
      "cell_type": "markdown",
      "source": [
        "Model-1: Logistic Regression"
      ],
      "metadata": {
        "id": "_5g56DnF56SE"
      },
      "id": "_5g56DnF56SE"
    },
    {
      "cell_type": "code",
      "source": [
        "log_model=LogisticRegression()\n",
        "\n",
        "params={'C':np.logspace(-10, 1, 15),'class_weight':[None,'balanced'],'penalty':['l1','l2']}\n",
        "\n",
        "cv = StratifiedKFold(n_splits=5, random_state=100, shuffle=True)\n",
        "\n",
        "# Create grid search using 5-fold cross validation\n",
        "clf_LR = GridSearchCV(log_model, params, cv=cv, scoring='roc_auc', n_jobs=-1)\n",
        "clf_LR.fit(X_train, y_train)\n",
        "clf_LR.best_estimator_"
      ],
      "metadata": {
        "colab": {
          "base_uri": "https://localhost:8080/"
        },
        "id": "GVeekcoU59ma",
        "outputId": "bbc3b94c-8740-497a-b4aa-cbdf1e9f6a03"
      },
      "id": "GVeekcoU59ma",
      "execution_count": null,
      "outputs": [
        {
          "output_type": "stream",
          "name": "stderr",
          "text": [
            "/usr/local/lib/python3.7/dist-packages/sklearn/model_selection/_validation.py:372: FitFailedWarning: \n",
            "150 fits failed out of a total of 300.\n",
            "The score on these train-test partitions for these parameters will be set to nan.\n",
            "If these failures are not expected, you can try to debug them by setting error_score='raise'.\n",
            "\n",
            "Below are more details about the failures:\n",
            "--------------------------------------------------------------------------------\n",
            "150 fits failed with the following error:\n",
            "Traceback (most recent call last):\n",
            "  File \"/usr/local/lib/python3.7/dist-packages/sklearn/model_selection/_validation.py\", line 680, in _fit_and_score\n",
            "    estimator.fit(X_train, y_train, **fit_params)\n",
            "  File \"/usr/local/lib/python3.7/dist-packages/sklearn/linear_model/_logistic.py\", line 1461, in fit\n",
            "    solver = _check_solver(self.solver, self.penalty, self.dual)\n",
            "  File \"/usr/local/lib/python3.7/dist-packages/sklearn/linear_model/_logistic.py\", line 449, in _check_solver\n",
            "    % (solver, penalty)\n",
            "ValueError: Solver lbfgs supports only 'l2' or 'none' penalties, got l1 penalty.\n",
            "\n",
            "  warnings.warn(some_fits_failed_message, FitFailedWarning)\n",
            "/usr/local/lib/python3.7/dist-packages/sklearn/model_selection/_search.py:972: UserWarning: One or more of the test scores are non-finite: [       nan 0.58964275        nan 0.5895601         nan 0.58955997\n",
            "        nan 0.58955997        nan 0.58951196        nan 0.5895599\n",
            "        nan 0.58957923        nan 0.58956048        nan 0.58950933\n",
            "        nan 0.58955386        nan 0.58955397        nan 0.58951298\n",
            "        nan 0.58957749        nan 0.58929721        nan 0.58919936\n",
            "        nan 0.58934922        nan 0.59005065        nan 0.59768927\n",
            "        nan 0.6070709         nan 0.62968584        nan 0.65115708\n",
            "        nan 0.67998797        nan 0.70934622        nan 0.72002393\n",
            "        nan 0.74872056        nan 0.74314693        nan 0.7633858\n",
            "        nan 0.75101819        nan 0.76632924        nan 0.75283064]\n",
            "  category=UserWarning,\n",
            "/usr/local/lib/python3.7/dist-packages/sklearn/linear_model/_logistic.py:818: ConvergenceWarning: lbfgs failed to converge (status=1):\n",
            "STOP: TOTAL NO. of ITERATIONS REACHED LIMIT.\n",
            "\n",
            "Increase the number of iterations (max_iter) or scale the data as shown in:\n",
            "    https://scikit-learn.org/stable/modules/preprocessing.html\n",
            "Please also refer to the documentation for alternative solver options:\n",
            "    https://scikit-learn.org/stable/modules/linear_model.html#logistic-regression\n",
            "  extra_warning_msg=_LOGISTIC_SOLVER_CONVERGENCE_MSG,\n"
          ]
        },
        {
          "output_type": "execute_result",
          "data": {
            "text/plain": [
              "LogisticRegression(C=10.0)"
            ]
          },
          "metadata": {},
          "execution_count": 26
        }
      ]
    },
    {
      "cell_type": "code",
      "source": [
        "test_eval(clf_LR, X_test, y_test, 'Logistic Regression', 'actual')"
      ],
      "metadata": {
        "colab": {
          "base_uri": "https://localhost:8080/"
        },
        "id": "M78q9HMC5_Yq",
        "outputId": "df136989-9231-4bbb-9240-d65ff8024b9e"
      },
      "id": "M78q9HMC5_Yq",
      "execution_count": null,
      "outputs": [
        {
          "output_type": "stream",
          "name": "stdout",
          "text": [
            "Confusion Matrix\n",
            "============================================================\n",
            "[[4604   21]\n",
            " [ 968   84]] \n",
            "\n",
            "Classification Report\n",
            "============================================================\n",
            "              precision    recall  f1-score   support\n",
            "\n",
            "           0       0.83      1.00      0.90      4625\n",
            "           1       0.80      0.08      0.15      1052\n",
            "\n",
            "    accuracy                           0.83      5677\n",
            "   macro avg       0.81      0.54      0.52      5677\n",
            "weighted avg       0.82      0.83      0.76      5677\n",
            " \n",
            "\n",
            "AUC-ROC\n",
            "============================================================\n",
            "0.7719755420820059\n"
          ]
        }
      ]
    },
    {
      "cell_type": "markdown",
      "source": [
        "SMOTE Resampling"
      ],
      "metadata": {
        "id": "oTK0_qfd6Do9"
      },
      "id": "oTK0_qfd6Do9"
    },
    {
      "cell_type": "code",
      "source": [
        "clf_LR.fit(X_train_sm, y_train_sm)\n",
        "clf_LR.best_estimator_"
      ],
      "metadata": {
        "colab": {
          "base_uri": "https://localhost:8080/"
        },
        "id": "QB5SLFG76IpX",
        "outputId": "d540a2bd-458b-436d-958a-3ed9381ce071"
      },
      "id": "QB5SLFG76IpX",
      "execution_count": null,
      "outputs": [
        {
          "output_type": "stream",
          "name": "stderr",
          "text": [
            "/usr/local/lib/python3.7/dist-packages/sklearn/model_selection/_validation.py:372: FitFailedWarning: \n",
            "150 fits failed out of a total of 300.\n",
            "The score on these train-test partitions for these parameters will be set to nan.\n",
            "If these failures are not expected, you can try to debug them by setting error_score='raise'.\n",
            "\n",
            "Below are more details about the failures:\n",
            "--------------------------------------------------------------------------------\n",
            "150 fits failed with the following error:\n",
            "Traceback (most recent call last):\n",
            "  File \"/usr/local/lib/python3.7/dist-packages/sklearn/model_selection/_validation.py\", line 680, in _fit_and_score\n",
            "    estimator.fit(X_train, y_train, **fit_params)\n",
            "  File \"/usr/local/lib/python3.7/dist-packages/sklearn/linear_model/_logistic.py\", line 1461, in fit\n",
            "    solver = _check_solver(self.solver, self.penalty, self.dual)\n",
            "  File \"/usr/local/lib/python3.7/dist-packages/sklearn/linear_model/_logistic.py\", line 449, in _check_solver\n",
            "    % (solver, penalty)\n",
            "ValueError: Solver lbfgs supports only 'l2' or 'none' penalties, got l1 penalty.\n",
            "\n",
            "  warnings.warn(some_fits_failed_message, FitFailedWarning)\n",
            "/usr/local/lib/python3.7/dist-packages/sklearn/model_selection/_search.py:972: UserWarning: One or more of the test scores are non-finite: [       nan 0.58420816        nan 0.58419395        nan 0.5841994\n",
            "        nan 0.5841939         nan 0.58419427        nan 0.58419414\n",
            "        nan 0.58419533        nan 0.58419532        nan 0.58419452\n",
            "        nan 0.5841945         nan 0.58421305        nan 0.58422325\n",
            "        nan 0.58430304        nan 0.58429884        nan 0.58585339\n",
            "        nan 0.58585333        nan 0.59929478        nan 0.59929469\n",
            "        nan 0.64009011        nan 0.64008972        nan 0.69940977\n",
            "        nan 0.6994119         nan 0.74774532        nan 0.74774286\n",
            "        nan 0.77200304        nan 0.77193968        nan 0.78015988\n",
            "        nan 0.77974342        nan 0.78163047        nan 0.78163223]\n",
            "  category=UserWarning,\n",
            "/usr/local/lib/python3.7/dist-packages/sklearn/linear_model/_logistic.py:818: ConvergenceWarning: lbfgs failed to converge (status=1):\n",
            "STOP: TOTAL NO. of ITERATIONS REACHED LIMIT.\n",
            "\n",
            "Increase the number of iterations (max_iter) or scale the data as shown in:\n",
            "    https://scikit-learn.org/stable/modules/preprocessing.html\n",
            "Please also refer to the documentation for alternative solver options:\n",
            "    https://scikit-learn.org/stable/modules/linear_model.html#logistic-regression\n",
            "  extra_warning_msg=_LOGISTIC_SOLVER_CONVERGENCE_MSG,\n"
          ]
        },
        {
          "output_type": "execute_result",
          "data": {
            "text/plain": [
              "LogisticRegression(C=10.0, class_weight='balanced')"
            ]
          },
          "metadata": {},
          "execution_count": 28
        }
      ]
    },
    {
      "cell_type": "code",
      "source": [
        "test_eval(clf_LR, X_test, y_test, 'Logistic Regression', 'smote')"
      ],
      "metadata": {
        "colab": {
          "base_uri": "https://localhost:8080/"
        },
        "id": "-YqL7yHb6LJu",
        "outputId": "72e0b2b1-11cc-43c1-bf2c-13a5981e3512"
      },
      "id": "-YqL7yHb6LJu",
      "execution_count": null,
      "outputs": [
        {
          "output_type": "stream",
          "name": "stdout",
          "text": [
            "Confusion Matrix\n",
            "============================================================\n",
            "[[3656  969]\n",
            " [ 356  696]] \n",
            "\n",
            "Classification Report\n",
            "============================================================\n",
            "              precision    recall  f1-score   support\n",
            "\n",
            "           0       0.91      0.79      0.85      4625\n",
            "           1       0.42      0.66      0.51      1052\n",
            "\n",
            "    accuracy                           0.77      5677\n",
            "   macro avg       0.66      0.73      0.68      5677\n",
            "weighted avg       0.82      0.77      0.78      5677\n",
            " \n",
            "\n",
            "AUC-ROC\n",
            "============================================================\n",
            "0.7733741650395642\n"
          ]
        }
      ]
    },
    {
      "cell_type": "markdown",
      "source": [
        "ADASYN Resampling"
      ],
      "metadata": {
        "id": "8itIRfzs6W93"
      },
      "id": "8itIRfzs6W93"
    },
    {
      "cell_type": "code",
      "source": [
        "clf_LR.fit(X_train_ada, y_train_ada)\n",
        "clf_LR.best_estimator_"
      ],
      "metadata": {
        "colab": {
          "base_uri": "https://localhost:8080/"
        },
        "id": "mpXhajer6bjD",
        "outputId": "9cfa0c03-2b83-4194-9353-bab1f1ee6961"
      },
      "id": "mpXhajer6bjD",
      "execution_count": null,
      "outputs": [
        {
          "output_type": "stream",
          "name": "stderr",
          "text": [
            "/usr/local/lib/python3.7/dist-packages/sklearn/model_selection/_validation.py:372: FitFailedWarning: \n",
            "150 fits failed out of a total of 300.\n",
            "The score on these train-test partitions for these parameters will be set to nan.\n",
            "If these failures are not expected, you can try to debug them by setting error_score='raise'.\n",
            "\n",
            "Below are more details about the failures:\n",
            "--------------------------------------------------------------------------------\n",
            "150 fits failed with the following error:\n",
            "Traceback (most recent call last):\n",
            "  File \"/usr/local/lib/python3.7/dist-packages/sklearn/model_selection/_validation.py\", line 680, in _fit_and_score\n",
            "    estimator.fit(X_train, y_train, **fit_params)\n",
            "  File \"/usr/local/lib/python3.7/dist-packages/sklearn/linear_model/_logistic.py\", line 1461, in fit\n",
            "    solver = _check_solver(self.solver, self.penalty, self.dual)\n",
            "  File \"/usr/local/lib/python3.7/dist-packages/sklearn/linear_model/_logistic.py\", line 449, in _check_solver\n",
            "    % (solver, penalty)\n",
            "ValueError: Solver lbfgs supports only 'l2' or 'none' penalties, got l1 penalty.\n",
            "\n",
            "  warnings.warn(some_fits_failed_message, FitFailedWarning)\n",
            "/usr/local/lib/python3.7/dist-packages/sklearn/model_selection/_search.py:972: UserWarning: One or more of the test scores are non-finite: [       nan 0.57397546        nan 0.57391272        nan 0.57394666\n",
            "        nan 0.57391259        nan 0.57393011        nan 0.57391286\n",
            "        nan 0.57397318        nan 0.57391189        nan 0.57390066\n",
            "        nan 0.57391118        nan 0.57390828        nan 0.57391352\n",
            "        nan 0.57393871        nan 0.57392922        nan 0.57534456\n",
            "        nan 0.57535281        nan 0.58824846        nan 0.58830804\n",
            "        nan 0.62966295        nan 0.62980423        nan 0.69768484\n",
            "        nan 0.69774808        nan 0.75335645        nan 0.75323524\n",
            "        nan 0.77959928        nan 0.77931303        nan 0.78714915\n",
            "        nan 0.78692223        nan 0.78890054        nan 0.78880044]\n",
            "  category=UserWarning,\n",
            "/usr/local/lib/python3.7/dist-packages/sklearn/linear_model/_logistic.py:818: ConvergenceWarning: lbfgs failed to converge (status=1):\n",
            "STOP: TOTAL NO. of ITERATIONS REACHED LIMIT.\n",
            "\n",
            "Increase the number of iterations (max_iter) or scale the data as shown in:\n",
            "    https://scikit-learn.org/stable/modules/preprocessing.html\n",
            "Please also refer to the documentation for alternative solver options:\n",
            "    https://scikit-learn.org/stable/modules/linear_model.html#logistic-regression\n",
            "  extra_warning_msg=_LOGISTIC_SOLVER_CONVERGENCE_MSG,\n"
          ]
        },
        {
          "output_type": "execute_result",
          "data": {
            "text/plain": [
              "LogisticRegression(C=10.0)"
            ]
          },
          "metadata": {},
          "execution_count": 30
        }
      ]
    },
    {
      "cell_type": "code",
      "source": [
        "test_eval(clf_LR, X_test, y_test, 'Logistic Regression', 'adasyn')"
      ],
      "metadata": {
        "colab": {
          "base_uri": "https://localhost:8080/"
        },
        "id": "mIDrvQTY6dwk",
        "outputId": "f7872053-1f4f-42e7-95ce-d307763fedbb"
      },
      "id": "mIDrvQTY6dwk",
      "execution_count": null,
      "outputs": [
        {
          "output_type": "stream",
          "name": "stdout",
          "text": [
            "Confusion Matrix\n",
            "============================================================\n",
            "[[3735  890]\n",
            " [ 348  704]] \n",
            "\n",
            "Classification Report\n",
            "============================================================\n",
            "              precision    recall  f1-score   support\n",
            "\n",
            "           0       0.91      0.81      0.86      4625\n",
            "           1       0.44      0.67      0.53      1052\n",
            "\n",
            "    accuracy                           0.78      5677\n",
            "   macro avg       0.68      0.74      0.69      5677\n",
            "weighted avg       0.83      0.78      0.80      5677\n",
            " \n",
            "\n",
            "AUC-ROC\n",
            "============================================================\n",
            "0.7770186003493987\n"
          ]
        }
      ]
    },
    {
      "cell_type": "markdown",
      "source": [
        "SMOTE + Tomek Resampling"
      ],
      "metadata": {
        "id": "PXC0aMYX6gpf"
      },
      "id": "PXC0aMYX6gpf"
    },
    {
      "cell_type": "code",
      "source": [
        "clf_LR.fit(X_train_smtom, y_train_smtom)\n",
        "clf_LR.best_estimator_"
      ],
      "metadata": {
        "colab": {
          "base_uri": "https://localhost:8080/"
        },
        "id": "vPtUir226oVk",
        "outputId": "d2b2d8ac-9204-441a-945a-f0380e84b74a"
      },
      "id": "vPtUir226oVk",
      "execution_count": null,
      "outputs": [
        {
          "output_type": "stream",
          "name": "stderr",
          "text": [
            "/usr/local/lib/python3.7/dist-packages/sklearn/model_selection/_validation.py:372: FitFailedWarning: \n",
            "150 fits failed out of a total of 300.\n",
            "The score on these train-test partitions for these parameters will be set to nan.\n",
            "If these failures are not expected, you can try to debug them by setting error_score='raise'.\n",
            "\n",
            "Below are more details about the failures:\n",
            "--------------------------------------------------------------------------------\n",
            "150 fits failed with the following error:\n",
            "Traceback (most recent call last):\n",
            "  File \"/usr/local/lib/python3.7/dist-packages/sklearn/model_selection/_validation.py\", line 680, in _fit_and_score\n",
            "    estimator.fit(X_train, y_train, **fit_params)\n",
            "  File \"/usr/local/lib/python3.7/dist-packages/sklearn/linear_model/_logistic.py\", line 1461, in fit\n",
            "    solver = _check_solver(self.solver, self.penalty, self.dual)\n",
            "  File \"/usr/local/lib/python3.7/dist-packages/sklearn/linear_model/_logistic.py\", line 449, in _check_solver\n",
            "    % (solver, penalty)\n",
            "ValueError: Solver lbfgs supports only 'l2' or 'none' penalties, got l1 penalty.\n",
            "\n",
            "  warnings.warn(some_fits_failed_message, FitFailedWarning)\n",
            "/usr/local/lib/python3.7/dist-packages/sklearn/model_selection/_search.py:972: UserWarning: One or more of the test scores are non-finite: [       nan 0.58506963        nan 0.58503708        nan 0.58504526\n",
            "        nan 0.58503705        nan 0.58503743        nan 0.58503696\n",
            "        nan 0.58503765        nan 0.58503766        nan 0.58503981\n",
            "        nan 0.58503984        nan 0.58505511        nan 0.58506356\n",
            "        nan 0.5851705         nan 0.58517039        nan 0.58686677\n",
            "        nan 0.5868668         nan 0.60020992        nan 0.60020992\n",
            "        nan 0.64072183        nan 0.64072166        nan 0.70044929\n",
            "        nan 0.70045413        nan 0.74846703        nan 0.74848413\n",
            "        nan 0.77253042        nan 0.77257831        nan 0.77982628\n",
            "        nan 0.78000984        nan 0.78136356        nan 0.78144013]\n",
            "  category=UserWarning,\n",
            "/usr/local/lib/python3.7/dist-packages/sklearn/linear_model/_logistic.py:818: ConvergenceWarning: lbfgs failed to converge (status=1):\n",
            "STOP: TOTAL NO. of ITERATIONS REACHED LIMIT.\n",
            "\n",
            "Increase the number of iterations (max_iter) or scale the data as shown in:\n",
            "    https://scikit-learn.org/stable/modules/preprocessing.html\n",
            "Please also refer to the documentation for alternative solver options:\n",
            "    https://scikit-learn.org/stable/modules/linear_model.html#logistic-regression\n",
            "  extra_warning_msg=_LOGISTIC_SOLVER_CONVERGENCE_MSG,\n"
          ]
        },
        {
          "output_type": "execute_result",
          "data": {
            "text/plain": [
              "LogisticRegression(C=10.0, class_weight='balanced')"
            ]
          },
          "metadata": {},
          "execution_count": 32
        }
      ]
    },
    {
      "cell_type": "code",
      "source": [
        "test_eval(clf_LR, X_test, y_test, 'Logistic Regression', 'smote+tomek')"
      ],
      "metadata": {
        "colab": {
          "base_uri": "https://localhost:8080/"
        },
        "id": "luH2prlq6qPy",
        "outputId": "8726a59e-ec87-49a9-c902-90889897dc1a"
      },
      "id": "luH2prlq6qPy",
      "execution_count": null,
      "outputs": [
        {
          "output_type": "stream",
          "name": "stdout",
          "text": [
            "Confusion Matrix\n",
            "============================================================\n",
            "[[3634  991]\n",
            " [ 352  700]] \n",
            "\n",
            "Classification Report\n",
            "============================================================\n",
            "              precision    recall  f1-score   support\n",
            "\n",
            "           0       0.91      0.79      0.84      4625\n",
            "           1       0.41      0.67      0.51      1052\n",
            "\n",
            "    accuracy                           0.76      5677\n",
            "   macro avg       0.66      0.73      0.68      5677\n",
            "weighted avg       0.82      0.76      0.78      5677\n",
            " \n",
            "\n",
            "AUC-ROC\n",
            "============================================================\n",
            "0.7690897132874319\n"
          ]
        }
      ]
    },
    {
      "cell_type": "markdown",
      "source": [
        "SMOTE + ENN Resampling"
      ],
      "metadata": {
        "id": "Cfe-oTLU6sgU"
      },
      "id": "Cfe-oTLU6sgU"
    },
    {
      "cell_type": "code",
      "source": [
        "clf_LR.fit(X_train_smenn, y_train_smenn)\n",
        "clf_LR.best_estimator_"
      ],
      "metadata": {
        "colab": {
          "base_uri": "https://localhost:8080/"
        },
        "id": "yCh04PjW6v5c",
        "outputId": "bf143073-79d3-4894-8805-c46f54f42f57"
      },
      "id": "yCh04PjW6v5c",
      "execution_count": null,
      "outputs": [
        {
          "output_type": "stream",
          "name": "stderr",
          "text": [
            "/usr/local/lib/python3.7/dist-packages/sklearn/model_selection/_validation.py:372: FitFailedWarning: \n",
            "150 fits failed out of a total of 300.\n",
            "The score on these train-test partitions for these parameters will be set to nan.\n",
            "If these failures are not expected, you can try to debug them by setting error_score='raise'.\n",
            "\n",
            "Below are more details about the failures:\n",
            "--------------------------------------------------------------------------------\n",
            "150 fits failed with the following error:\n",
            "Traceback (most recent call last):\n",
            "  File \"/usr/local/lib/python3.7/dist-packages/sklearn/model_selection/_validation.py\", line 680, in _fit_and_score\n",
            "    estimator.fit(X_train, y_train, **fit_params)\n",
            "  File \"/usr/local/lib/python3.7/dist-packages/sklearn/linear_model/_logistic.py\", line 1461, in fit\n",
            "    solver = _check_solver(self.solver, self.penalty, self.dual)\n",
            "  File \"/usr/local/lib/python3.7/dist-packages/sklearn/linear_model/_logistic.py\", line 449, in _check_solver\n",
            "    % (solver, penalty)\n",
            "ValueError: Solver lbfgs supports only 'l2' or 'none' penalties, got l1 penalty.\n",
            "\n",
            "  warnings.warn(some_fits_failed_message, FitFailedWarning)\n",
            "/usr/local/lib/python3.7/dist-packages/sklearn/model_selection/_search.py:972: UserWarning: One or more of the test scores are non-finite: [       nan 0.62322748        nan 0.62322947        nan 0.62323058\n",
            "        nan 0.62322955        nan 0.62322918        nan 0.62322955\n",
            "        nan 0.62322873        nan 0.62322873        nan 0.62322925\n",
            "        nan 0.62323139        nan 0.6232346         nan 0.62324912\n",
            "        nan 0.62334256        nan 0.62341694        nan 0.62465592\n",
            "        nan 0.62488159        nan 0.63559845        nan 0.63629424\n",
            "        nan 0.67240028        nan 0.673953          nan 0.73280466\n",
            "        nan 0.73476898        nan 0.78327923        nan 0.78505608\n",
            "        nan 0.80819504        nan 0.80964982        nan 0.81702053\n",
            "        nan 0.81832731        nan 0.81893368        nan 0.81994339]\n",
            "  category=UserWarning,\n",
            "/usr/local/lib/python3.7/dist-packages/sklearn/linear_model/_logistic.py:818: ConvergenceWarning: lbfgs failed to converge (status=1):\n",
            "STOP: TOTAL NO. of ITERATIONS REACHED LIMIT.\n",
            "\n",
            "Increase the number of iterations (max_iter) or scale the data as shown in:\n",
            "    https://scikit-learn.org/stable/modules/preprocessing.html\n",
            "Please also refer to the documentation for alternative solver options:\n",
            "    https://scikit-learn.org/stable/modules/linear_model.html#logistic-regression\n",
            "  extra_warning_msg=_LOGISTIC_SOLVER_CONVERGENCE_MSG,\n"
          ]
        },
        {
          "output_type": "execute_result",
          "data": {
            "text/plain": [
              "LogisticRegression(C=10.0, class_weight='balanced')"
            ]
          },
          "metadata": {},
          "execution_count": 35
        }
      ]
    },
    {
      "cell_type": "code",
      "source": [
        "test_eval(clf_LR, X_test, y_test, 'Logistic Regression', 'smote+enn')"
      ],
      "metadata": {
        "colab": {
          "base_uri": "https://localhost:8080/"
        },
        "id": "mWY8KAYA60T4",
        "outputId": "a96fa484-7ea3-40ef-9825-3562451864d9"
      },
      "id": "mWY8KAYA60T4",
      "execution_count": null,
      "outputs": [
        {
          "output_type": "stream",
          "name": "stdout",
          "text": [
            "Confusion Matrix\n",
            "============================================================\n",
            "[[3660  965]\n",
            " [ 344  708]] \n",
            "\n",
            "Classification Report\n",
            "============================================================\n",
            "              precision    recall  f1-score   support\n",
            "\n",
            "           0       0.91      0.79      0.85      4625\n",
            "           1       0.42      0.67      0.52      1052\n",
            "\n",
            "    accuracy                           0.77      5677\n",
            "   macro avg       0.67      0.73      0.68      5677\n",
            "weighted avg       0.82      0.77      0.79      5677\n",
            " \n",
            "\n",
            "AUC-ROC\n",
            "============================================================\n",
            "0.7706989004213339\n"
          ]
        }
      ]
    },
    {
      "cell_type": "markdown",
      "source": [
        "Model-2: Decision Tree"
      ],
      "metadata": {
        "id": "4TInG1MT634x"
      },
      "id": "4TInG1MT634x"
    },
    {
      "cell_type": "code",
      "source": [
        "estimators = [2,10,30,50,100]\n",
        "# Maximum number of depth in each tree:\n",
        "max_depth = [i for i in range(5,16,2)]\n",
        "# Minimum number of samples to consider to split a node:\n",
        "min_samples_split = [2, 5, 10, 15, 20, 50, 100]\n",
        "# Minimum number of samples to consider at each leaf node:\n",
        "min_samples_leaf = [1, 2, 5]"
      ],
      "metadata": {
        "id": "kHGA8zn07ENq"
      },
      "id": "kHGA8zn07ENq",
      "execution_count": null,
      "outputs": []
    },
    {
      "cell_type": "markdown",
      "source": [
        "1. Original Unsampled Data"
      ],
      "metadata": {
        "id": "ZUPyc9DW7S96"
      },
      "id": "ZUPyc9DW7S96"
    },
    {
      "cell_type": "code",
      "source": [
        "tree_model = DecisionTreeClassifier()\n",
        "\n",
        "tree_param_grid = { \n",
        "    'max_depth': max_depth,\n",
        "    'min_samples_split': min_samples_split,\n",
        "    'min_samples_leaf': min_samples_leaf\n",
        "}\n",
        "\n",
        "clf_DT = RandomizedSearchCV(tree_model, tree_param_grid, cv=cv, scoring='roc_auc', n_jobs=-1, verbose=2)\n",
        "clf_DT.fit(X_train, y_train)\n",
        "clf_DT.best_estimator_"
      ],
      "metadata": {
        "colab": {
          "base_uri": "https://localhost:8080/"
        },
        "id": "iGSQ3AvZ7Qc1",
        "outputId": "94a7e2d4-c17f-4981-9e17-89fa1f276272"
      },
      "id": "iGSQ3AvZ7Qc1",
      "execution_count": null,
      "outputs": [
        {
          "output_type": "stream",
          "name": "stdout",
          "text": [
            "Fitting 5 folds for each of 10 candidates, totalling 50 fits\n"
          ]
        },
        {
          "output_type": "execute_result",
          "data": {
            "text/plain": [
              "DecisionTreeClassifier(max_depth=9, min_samples_leaf=2, min_samples_split=100)"
            ]
          },
          "metadata": {},
          "execution_count": 38
        }
      ]
    },
    {
      "cell_type": "code",
      "source": [
        "test_eval(clf_DT, X_test, y_test, 'Decision Tree', 'actual')"
      ],
      "metadata": {
        "colab": {
          "base_uri": "https://localhost:8080/"
        },
        "id": "3DcRJZ7v7V0J",
        "outputId": "b5ded102-df4f-44dd-d917-efcf064031d9"
      },
      "id": "3DcRJZ7v7V0J",
      "execution_count": null,
      "outputs": [
        {
          "output_type": "stream",
          "name": "stdout",
          "text": [
            "Confusion Matrix\n",
            "============================================================\n",
            "[[4373  252]\n",
            " [ 580  472]] \n",
            "\n",
            "Classification Report\n",
            "============================================================\n",
            "              precision    recall  f1-score   support\n",
            "\n",
            "           0       0.88      0.95      0.91      4625\n",
            "           1       0.65      0.45      0.53      1052\n",
            "\n",
            "    accuracy                           0.85      5677\n",
            "   macro avg       0.77      0.70      0.72      5677\n",
            "weighted avg       0.84      0.85      0.84      5677\n",
            " \n",
            "\n",
            "AUC-ROC\n",
            "============================================================\n",
            "0.8112984277052717\n"
          ]
        }
      ]
    },
    {
      "cell_type": "code",
      "source": [
        ""
      ],
      "metadata": {
        "id": "pqUXFOWU7YsC"
      },
      "id": "pqUXFOWU7YsC",
      "execution_count": null,
      "outputs": []
    },
    {
      "cell_type": "markdown",
      "source": [
        "SMOTE Resampling"
      ],
      "metadata": {
        "id": "1Y55RTh27kEv"
      },
      "id": "1Y55RTh27kEv"
    },
    {
      "cell_type": "code",
      "source": [
        "clf_DT.fit(X_train_sm, y_train_sm)\n",
        "clf_DT.best_estimator_"
      ],
      "metadata": {
        "colab": {
          "base_uri": "https://localhost:8080/"
        },
        "id": "Ubpveyrc7oqE",
        "outputId": "4f8ef4e7-803c-4466-9df8-f7b50f4a8e24"
      },
      "id": "Ubpveyrc7oqE",
      "execution_count": null,
      "outputs": [
        {
          "output_type": "stream",
          "name": "stdout",
          "text": [
            "Fitting 5 folds for each of 10 candidates, totalling 50 fits\n"
          ]
        },
        {
          "output_type": "execute_result",
          "data": {
            "text/plain": [
              "DecisionTreeClassifier(max_depth=13, min_samples_split=100)"
            ]
          },
          "metadata": {},
          "execution_count": 41
        }
      ]
    },
    {
      "cell_type": "code",
      "source": [
        "test_eval(clf_DT, X_test, y_test, 'Decision Tree', 'smote')"
      ],
      "metadata": {
        "colab": {
          "base_uri": "https://localhost:8080/"
        },
        "id": "GT08yTRs7rYM",
        "outputId": "4ac0e1cd-9094-4067-d865-6b03bac6ad64"
      },
      "id": "GT08yTRs7rYM",
      "execution_count": null,
      "outputs": [
        {
          "output_type": "stream",
          "name": "stdout",
          "text": [
            "Confusion Matrix\n",
            "============================================================\n",
            "[[3593 1032]\n",
            " [ 363  689]] \n",
            "\n",
            "Classification Report\n",
            "============================================================\n",
            "              precision    recall  f1-score   support\n",
            "\n",
            "           0       0.91      0.78      0.84      4625\n",
            "           1       0.40      0.65      0.50      1052\n",
            "\n",
            "    accuracy                           0.75      5677\n",
            "   macro avg       0.65      0.72      0.67      5677\n",
            "weighted avg       0.81      0.75      0.77      5677\n",
            " \n",
            "\n",
            "AUC-ROC\n",
            "============================================================\n",
            "0.7710543623471381\n"
          ]
        }
      ]
    },
    {
      "cell_type": "markdown",
      "source": [
        "3.ADASYN Resampling"
      ],
      "metadata": {
        "id": "PGOg2xKu7wXm"
      },
      "id": "PGOg2xKu7wXm"
    },
    {
      "cell_type": "code",
      "source": [
        "\n",
        "clf_DT.fit(X_train_ada, y_train_ada)\n",
        "clf_DT.best_estimator_"
      ],
      "metadata": {
        "colab": {
          "base_uri": "https://localhost:8080/"
        },
        "id": "218PKkLU7xal",
        "outputId": "340ce620-37d8-43e2-f109-76eebaca4cd3"
      },
      "id": "218PKkLU7xal",
      "execution_count": null,
      "outputs": [
        {
          "output_type": "stream",
          "name": "stdout",
          "text": [
            "Fitting 5 folds for each of 10 candidates, totalling 50 fits\n"
          ]
        },
        {
          "output_type": "execute_result",
          "data": {
            "text/plain": [
              "DecisionTreeClassifier(max_depth=9, min_samples_leaf=5, min_samples_split=20)"
            ]
          },
          "metadata": {},
          "execution_count": 43
        }
      ]
    },
    {
      "cell_type": "code",
      "source": [
        "test_eval(clf_DT, X_test, y_test, 'Decision Tree', 'adasyn')"
      ],
      "metadata": {
        "colab": {
          "base_uri": "https://localhost:8080/"
        },
        "id": "b0ySFvYI71ja",
        "outputId": "04c9916d-0f9d-4322-e8ee-d62bafb0732e"
      },
      "id": "b0ySFvYI71ja",
      "execution_count": null,
      "outputs": [
        {
          "output_type": "stream",
          "name": "stdout",
          "text": [
            "Confusion Matrix\n",
            "============================================================\n",
            "[[3673  952]\n",
            " [ 349  703]] \n",
            "\n",
            "Classification Report\n",
            "============================================================\n",
            "              precision    recall  f1-score   support\n",
            "\n",
            "           0       0.91      0.79      0.85      4625\n",
            "           1       0.42      0.67      0.52      1052\n",
            "\n",
            "    accuracy                           0.77      5677\n",
            "   macro avg       0.67      0.73      0.68      5677\n",
            "weighted avg       0.82      0.77      0.79      5677\n",
            " \n",
            "\n",
            "AUC-ROC\n",
            "============================================================\n",
            "0.7903254547322989\n"
          ]
        }
      ]
    },
    {
      "cell_type": "markdown",
      "source": [
        "SMOTE + Tomek Resampling"
      ],
      "metadata": {
        "id": "8vuiJ6on76Y4"
      },
      "id": "8vuiJ6on76Y4"
    },
    {
      "cell_type": "code",
      "source": [
        "clf_DT.fit(X_train_smtom, y_train_smtom)\n",
        "clf_DT.best_estimator_"
      ],
      "metadata": {
        "colab": {
          "base_uri": "https://localhost:8080/"
        },
        "id": "soRyGFqF73Nz",
        "outputId": "713f02ac-5fc7-44ab-f736-045790687129"
      },
      "id": "soRyGFqF73Nz",
      "execution_count": null,
      "outputs": [
        {
          "output_type": "stream",
          "name": "stdout",
          "text": [
            "Fitting 5 folds for each of 10 candidates, totalling 50 fits\n"
          ]
        },
        {
          "output_type": "execute_result",
          "data": {
            "text/plain": [
              "DecisionTreeClassifier(max_depth=7, min_samples_leaf=5, min_samples_split=100)"
            ]
          },
          "metadata": {},
          "execution_count": 45
        }
      ]
    },
    {
      "cell_type": "code",
      "source": [
        "test_eval(clf_DT, X_test, y_test, 'Decision Tree', 'smote+tomek')"
      ],
      "metadata": {
        "colab": {
          "base_uri": "https://localhost:8080/"
        },
        "id": "bjJsGfPE8AW3",
        "outputId": "ca7a1bc6-a340-41b5-866a-797aaadb21c0"
      },
      "id": "bjJsGfPE8AW3",
      "execution_count": null,
      "outputs": [
        {
          "output_type": "stream",
          "name": "stdout",
          "text": [
            "Confusion Matrix\n",
            "============================================================\n",
            "[[3610 1015]\n",
            " [ 337  715]] \n",
            "\n",
            "Classification Report\n",
            "============================================================\n",
            "              precision    recall  f1-score   support\n",
            "\n",
            "           0       0.91      0.78      0.84      4625\n",
            "           1       0.41      0.68      0.51      1052\n",
            "\n",
            "    accuracy                           0.76      5677\n",
            "   macro avg       0.66      0.73      0.68      5677\n",
            "weighted avg       0.82      0.76      0.78      5677\n",
            " \n",
            "\n",
            "AUC-ROC\n",
            "============================================================\n",
            "0.7972124139348474\n"
          ]
        }
      ]
    },
    {
      "cell_type": "markdown",
      "source": [
        "SMOTE + ENN Resampling"
      ],
      "metadata": {
        "id": "S4RvW1c38CcZ"
      },
      "id": "S4RvW1c38CcZ"
    },
    {
      "cell_type": "code",
      "source": [
        "clf_DT.fit(X_train_smenn, y_train_smenn)\n",
        "clf_DT.best_estimator_"
      ],
      "metadata": {
        "colab": {
          "base_uri": "https://localhost:8080/"
        },
        "id": "FmvJUeeX8MXC",
        "outputId": "d52d6205-bf0c-4969-8ddb-52b75967037a"
      },
      "id": "FmvJUeeX8MXC",
      "execution_count": null,
      "outputs": [
        {
          "output_type": "stream",
          "name": "stdout",
          "text": [
            "Fitting 5 folds for each of 10 candidates, totalling 50 fits\n"
          ]
        },
        {
          "output_type": "execute_result",
          "data": {
            "text/plain": [
              "DecisionTreeClassifier(max_depth=11, min_samples_leaf=5, min_samples_split=100)"
            ]
          },
          "metadata": {},
          "execution_count": 47
        }
      ]
    },
    {
      "cell_type": "code",
      "source": [
        "test_eval(clf_DT, X_test, y_test, 'Decision Tree', 'smote+enn')"
      ],
      "metadata": {
        "colab": {
          "base_uri": "https://localhost:8080/"
        },
        "id": "DPolonGR8OkD",
        "outputId": "258d683c-20a0-4180-aeac-5e8f9e8c5fee"
      },
      "id": "DPolonGR8OkD",
      "execution_count": null,
      "outputs": [
        {
          "output_type": "stream",
          "name": "stdout",
          "text": [
            "Confusion Matrix\n",
            "============================================================\n",
            "[[3082 1543]\n",
            " [ 254  798]] \n",
            "\n",
            "Classification Report\n",
            "============================================================\n",
            "              precision    recall  f1-score   support\n",
            "\n",
            "           0       0.92      0.67      0.77      4625\n",
            "           1       0.34      0.76      0.47      1052\n",
            "\n",
            "    accuracy                           0.68      5677\n",
            "   macro avg       0.63      0.71      0.62      5677\n",
            "weighted avg       0.82      0.68      0.72      5677\n",
            " \n",
            "\n",
            "AUC-ROC\n",
            "============================================================\n",
            "0.7844987154454834\n"
          ]
        }
      ]
    },
    {
      "cell_type": "markdown",
      "source": [
        "Model-3: Random Forest"
      ],
      "metadata": {
        "id": "CgmAW4IS8Q86"
      },
      "id": "CgmAW4IS8Q86"
    },
    {
      "cell_type": "markdown",
      "source": [
        "Original Unsampled Data"
      ],
      "metadata": {
        "id": "LeZ4cITn8WFk"
      },
      "id": "LeZ4cITn8WFk"
    },
    {
      "cell_type": "code",
      "source": [
        "rf_model = RandomForestClassifier()\n",
        "\n",
        "rf_params={'n_estimators':estimators,\n",
        "           'max_depth':max_depth,\n",
        "           'min_samples_split':min_samples_split}\n",
        "\n",
        "clf_RF = RandomizedSearchCV(rf_model, rf_params, cv=cv, scoring='roc_auc', n_jobs=-1, n_iter=20, verbose=2)\n",
        "clf_RF.fit(X_train, y_train)\n",
        "clf_RF.best_estimator_"
      ],
      "metadata": {
        "colab": {
          "base_uri": "https://localhost:8080/"
        },
        "id": "8mBPDn-Z8YZn",
        "outputId": "2208ba83-4c7c-48ef-e7a7-fc7552b639cd"
      },
      "id": "8mBPDn-Z8YZn",
      "execution_count": null,
      "outputs": [
        {
          "output_type": "stream",
          "name": "stdout",
          "text": [
            "Fitting 5 folds for each of 20 candidates, totalling 100 fits\n"
          ]
        },
        {
          "output_type": "execute_result",
          "data": {
            "text/plain": [
              "RandomForestClassifier(max_depth=15, min_samples_split=50, n_estimators=30)"
            ]
          },
          "metadata": {},
          "execution_count": 49
        }
      ]
    },
    {
      "cell_type": "code",
      "source": [
        "test_eval(clf_RF, X_test, y_test, 'Random Forest', 'actual')"
      ],
      "metadata": {
        "colab": {
          "base_uri": "https://localhost:8080/"
        },
        "id": "MpEhOsve8cch",
        "outputId": "0d0537e2-9ee5-4e44-dfc5-a41352f36bb6"
      },
      "id": "MpEhOsve8cch",
      "execution_count": null,
      "outputs": [
        {
          "output_type": "stream",
          "name": "stdout",
          "text": [
            "Confusion Matrix\n",
            "============================================================\n",
            "[[4463  162]\n",
            " [ 602  450]] \n",
            "\n",
            "Classification Report\n",
            "============================================================\n",
            "              precision    recall  f1-score   support\n",
            "\n",
            "           0       0.88      0.96      0.92      4625\n",
            "           1       0.74      0.43      0.54      1052\n",
            "\n",
            "    accuracy                           0.87      5677\n",
            "   macro avg       0.81      0.70      0.73      5677\n",
            "weighted avg       0.85      0.87      0.85      5677\n",
            " \n",
            "\n",
            "AUC-ROC\n",
            "============================================================\n",
            "0.837576713595725\n"
          ]
        }
      ]
    },
    {
      "cell_type": "markdown",
      "source": [
        "SMOTE Resampling"
      ],
      "metadata": {
        "id": "4HcWP5BT8edb"
      },
      "id": "4HcWP5BT8edb"
    },
    {
      "cell_type": "code",
      "source": [
        "clf_RF.fit(X_train_sm, y_train_sm)\n",
        "clf_RF.best_estimator_"
      ],
      "metadata": {
        "colab": {
          "base_uri": "https://localhost:8080/"
        },
        "id": "sx_MCSgX8heG",
        "outputId": "986be104-91c8-467b-d8d8-4e758d7ac5d5"
      },
      "id": "sx_MCSgX8heG",
      "execution_count": null,
      "outputs": [
        {
          "output_type": "stream",
          "name": "stdout",
          "text": [
            "Fitting 5 folds for each of 20 candidates, totalling 100 fits\n"
          ]
        },
        {
          "output_type": "execute_result",
          "data": {
            "text/plain": [
              "RandomForestClassifier(max_depth=13, min_samples_split=20, n_estimators=50)"
            ]
          },
          "metadata": {},
          "execution_count": 51
        }
      ]
    },
    {
      "cell_type": "code",
      "source": [
        "test_eval(clf_RF, X_test, y_test, 'Random Forest', 'smote')"
      ],
      "metadata": {
        "colab": {
          "base_uri": "https://localhost:8080/"
        },
        "id": "Nv3pJqE_8iz6",
        "outputId": "c9b38e39-b3bc-49a8-e177-f1ddcd0c4702"
      },
      "id": "Nv3pJqE_8iz6",
      "execution_count": null,
      "outputs": [
        {
          "output_type": "stream",
          "name": "stdout",
          "text": [
            "Confusion Matrix\n",
            "============================================================\n",
            "[[3781  844]\n",
            " [ 316  736]] \n",
            "\n",
            "Classification Report\n",
            "============================================================\n",
            "              precision    recall  f1-score   support\n",
            "\n",
            "           0       0.92      0.82      0.87      4625\n",
            "           1       0.47      0.70      0.56      1052\n",
            "\n",
            "    accuracy                           0.80      5677\n",
            "   macro avg       0.69      0.76      0.71      5677\n",
            "weighted avg       0.84      0.80      0.81      5677\n",
            " \n",
            "\n",
            "AUC-ROC\n",
            "============================================================\n",
            "0.8181325660261021\n"
          ]
        }
      ]
    },
    {
      "cell_type": "markdown",
      "source": [
        "ADASYN Resampling"
      ],
      "metadata": {
        "id": "n8FP39_I8kYr"
      },
      "id": "n8FP39_I8kYr"
    },
    {
      "cell_type": "code",
      "source": [
        "clf_RF.fit(X_train_ada, y_train_ada)\n",
        "clf_RF.best_estimator_"
      ],
      "metadata": {
        "colab": {
          "base_uri": "https://localhost:8080/"
        },
        "id": "b-O0PAma8prt",
        "outputId": "f4be120c-e8e7-456d-b1fb-28a2856dc880"
      },
      "id": "b-O0PAma8prt",
      "execution_count": null,
      "outputs": [
        {
          "output_type": "stream",
          "name": "stdout",
          "text": [
            "Fitting 5 folds for each of 20 candidates, totalling 100 fits\n"
          ]
        },
        {
          "output_type": "execute_result",
          "data": {
            "text/plain": [
              "RandomForestClassifier(max_depth=15, min_samples_split=5, n_estimators=30)"
            ]
          },
          "metadata": {},
          "execution_count": 53
        }
      ]
    },
    {
      "cell_type": "code",
      "source": [
        "test_eval(clf_RF, X_test, y_test, 'Random Forest', 'adasyn')"
      ],
      "metadata": {
        "colab": {
          "base_uri": "https://localhost:8080/"
        },
        "id": "jpfpYApk8rHF",
        "outputId": "e4f2b926-8bb1-46db-d98b-075fc7bc0f29"
      },
      "id": "jpfpYApk8rHF",
      "execution_count": null,
      "outputs": [
        {
          "output_type": "stream",
          "name": "stdout",
          "text": [
            "Confusion Matrix\n",
            "============================================================\n",
            "[[3859  766]\n",
            " [ 334  718]] \n",
            "\n",
            "Classification Report\n",
            "============================================================\n",
            "              precision    recall  f1-score   support\n",
            "\n",
            "           0       0.92      0.83      0.88      4625\n",
            "           1       0.48      0.68      0.57      1052\n",
            "\n",
            "    accuracy                           0.81      5677\n",
            "   macro avg       0.70      0.76      0.72      5677\n",
            "weighted avg       0.84      0.81      0.82      5677\n",
            " \n",
            "\n",
            "AUC-ROC\n",
            "============================================================\n",
            "0.8186552255677731\n"
          ]
        }
      ]
    },
    {
      "cell_type": "markdown",
      "source": [
        "SMOTE + Tomek Resampling"
      ],
      "metadata": {
        "id": "EyerrfVf8s2B"
      },
      "id": "EyerrfVf8s2B"
    },
    {
      "cell_type": "code",
      "source": [
        "clf_RF.fit(X_train_smtom, y_train_smtom)\n",
        "clf_RF.best_estimator_"
      ],
      "metadata": {
        "colab": {
          "base_uri": "https://localhost:8080/"
        },
        "id": "4jphxu_e8vqN",
        "outputId": "8260f9e8-0ba1-40b8-98f0-b89ee8c5f6e8"
      },
      "id": "4jphxu_e8vqN",
      "execution_count": null,
      "outputs": [
        {
          "output_type": "stream",
          "name": "stdout",
          "text": [
            "Fitting 5 folds for each of 20 candidates, totalling 100 fits\n"
          ]
        },
        {
          "output_type": "execute_result",
          "data": {
            "text/plain": [
              "RandomForestClassifier(max_depth=15, min_samples_split=15)"
            ]
          },
          "metadata": {},
          "execution_count": 56
        }
      ]
    },
    {
      "cell_type": "code",
      "source": [
        "test_eval(clf_RF, X_test, y_test, 'Random Forest', 'smote+tomek')"
      ],
      "metadata": {
        "colab": {
          "base_uri": "https://localhost:8080/"
        },
        "id": "3rkmlJV78xnc",
        "outputId": "66722378-aca1-42d3-acc5-9728b6024fe6"
      },
      "id": "3rkmlJV78xnc",
      "execution_count": null,
      "outputs": [
        {
          "output_type": "stream",
          "name": "stdout",
          "text": [
            "Confusion Matrix\n",
            "============================================================\n",
            "[[3825  800]\n",
            " [ 323  729]] \n",
            "\n",
            "Classification Report\n",
            "============================================================\n",
            "              precision    recall  f1-score   support\n",
            "\n",
            "           0       0.92      0.83      0.87      4625\n",
            "           1       0.48      0.69      0.56      1052\n",
            "\n",
            "    accuracy                           0.80      5677\n",
            "   macro avg       0.70      0.76      0.72      5677\n",
            "weighted avg       0.84      0.80      0.82      5677\n",
            " \n",
            "\n",
            "AUC-ROC\n",
            "============================================================\n",
            "0.8213400472716063\n"
          ]
        }
      ]
    },
    {
      "cell_type": "markdown",
      "source": [
        "SMOTE + ENN Resampling"
      ],
      "metadata": {
        "id": "ag1fCNf280VH"
      },
      "id": "ag1fCNf280VH"
    },
    {
      "cell_type": "code",
      "source": [
        "clf_RF.fit(X_train_smenn, y_train_smenn)\n",
        "clf_RF.best_estimator_"
      ],
      "metadata": {
        "colab": {
          "base_uri": "https://localhost:8080/"
        },
        "id": "LfyROOjK83z4",
        "outputId": "6d0ec496-5652-4c22-c27b-a2426ac1916c"
      },
      "id": "LfyROOjK83z4",
      "execution_count": null,
      "outputs": [
        {
          "output_type": "stream",
          "name": "stdout",
          "text": [
            "Fitting 5 folds for each of 20 candidates, totalling 100 fits\n"
          ]
        },
        {
          "output_type": "execute_result",
          "data": {
            "text/plain": [
              "RandomForestClassifier(max_depth=15, min_samples_split=10, n_estimators=10)"
            ]
          },
          "metadata": {},
          "execution_count": 58
        }
      ]
    },
    {
      "cell_type": "code",
      "source": [
        "\n",
        "test_eval(clf_RF, X_test, y_test, 'Random Forest', 'smote+enn')"
      ],
      "metadata": {
        "colab": {
          "base_uri": "https://localhost:8080/"
        },
        "id": "9Exm4St885QS",
        "outputId": "0213e791-042c-4f40-a394-ec0236093a35"
      },
      "id": "9Exm4St885QS",
      "execution_count": null,
      "outputs": [
        {
          "output_type": "stream",
          "name": "stdout",
          "text": [
            "Confusion Matrix\n",
            "============================================================\n",
            "[[3245 1380]\n",
            " [ 247  805]] \n",
            "\n",
            "Classification Report\n",
            "============================================================\n",
            "              precision    recall  f1-score   support\n",
            "\n",
            "           0       0.93      0.70      0.80      4625\n",
            "           1       0.37      0.77      0.50      1052\n",
            "\n",
            "    accuracy                           0.71      5677\n",
            "   macro avg       0.65      0.73      0.65      5677\n",
            "weighted avg       0.83      0.71      0.74      5677\n",
            " \n",
            "\n",
            "AUC-ROC\n",
            "============================================================\n",
            "0.7991156099064844\n"
          ]
        }
      ]
    },
    {
      "cell_type": "markdown",
      "source": [
        "Model Comparision"
      ],
      "metadata": {
        "id": "2edh0gyl86p5"
      },
      "id": "2edh0gyl86p5"
    },
    {
      "cell_type": "code",
      "source": [
        "clf_eval_df = pd.DataFrame({'model':model,\n",
        "                            'resample':resample,\n",
        "                            'precision':precision,\n",
        "                            'recall':recall,\n",
        "                            'f1-score':F1score,\n",
        "                            'AUC-ROC':AUCROC})"
      ],
      "metadata": {
        "id": "LPbndV_k883Z"
      },
      "id": "LPbndV_k883Z",
      "execution_count": null,
      "outputs": []
    },
    {
      "cell_type": "code",
      "source": [
        "clf_eval_df"
      ],
      "metadata": {
        "colab": {
          "base_uri": "https://localhost:8080/",
          "height": 520
        },
        "id": "JnJ6Qy9d9BTH",
        "outputId": "0cad6ff2-3194-4962-b0f5-ea482cb4277a"
      },
      "id": "JnJ6Qy9d9BTH",
      "execution_count": null,
      "outputs": [
        {
          "output_type": "execute_result",
          "data": {
            "text/plain": [
              "                  model     resample  precision    recall  f1-score   AUC-ROC\n",
              "0   Logistic Regression       actual   0.800000  0.079848  0.145203  0.771976\n",
              "1   Logistic Regression        smote   0.418018  0.661597  0.512330  0.773374\n",
              "2   Logistic Regression       adasyn   0.441656  0.669202  0.532124  0.777019\n",
              "3   Logistic Regression  smote+tomek   0.413956  0.665399  0.510390  0.769090\n",
              "4   Logistic Regression    smote+enn   0.423192  0.673004  0.519633  0.770699\n",
              "5         Decision Tree       actual   0.651934  0.448669  0.531532  0.811298\n",
              "6         Decision Tree        smote   0.400349  0.654943  0.496935  0.771054\n",
              "7         Decision Tree       adasyn   0.424773  0.668251  0.519394  0.790325\n",
              "8         Decision Tree  smote+tomek   0.413295  0.679658  0.514019  0.797212\n",
              "9         Decision Tree    smote+enn   0.340880  0.758555  0.470380  0.784499\n",
              "10        Random Forest       actual   0.735294  0.427757  0.540865  0.837577\n",
              "11        Random Forest        smote   0.465823  0.699620  0.559271  0.818133\n",
              "12        Random Forest       adasyn   0.483827  0.682510  0.566246  0.818655\n",
              "13        Random Forest  smote+tomek   0.476782  0.692966  0.564897  0.821340\n",
              "14        Random Forest    smote+enn   0.368421  0.765209  0.497374  0.799116"
            ],
            "text/html": [
              "\n",
              "  <div id=\"df-e1384d3c-52ff-41a5-9182-ede0f6dc440c\">\n",
              "    <div class=\"colab-df-container\">\n",
              "      <div>\n",
              "<style scoped>\n",
              "    .dataframe tbody tr th:only-of-type {\n",
              "        vertical-align: middle;\n",
              "    }\n",
              "\n",
              "    .dataframe tbody tr th {\n",
              "        vertical-align: top;\n",
              "    }\n",
              "\n",
              "    .dataframe thead th {\n",
              "        text-align: right;\n",
              "    }\n",
              "</style>\n",
              "<table border=\"1\" class=\"dataframe\">\n",
              "  <thead>\n",
              "    <tr style=\"text-align: right;\">\n",
              "      <th></th>\n",
              "      <th>model</th>\n",
              "      <th>resample</th>\n",
              "      <th>precision</th>\n",
              "      <th>recall</th>\n",
              "      <th>f1-score</th>\n",
              "      <th>AUC-ROC</th>\n",
              "    </tr>\n",
              "  </thead>\n",
              "  <tbody>\n",
              "    <tr>\n",
              "      <th>0</th>\n",
              "      <td>Logistic Regression</td>\n",
              "      <td>actual</td>\n",
              "      <td>0.800000</td>\n",
              "      <td>0.079848</td>\n",
              "      <td>0.145203</td>\n",
              "      <td>0.771976</td>\n",
              "    </tr>\n",
              "    <tr>\n",
              "      <th>1</th>\n",
              "      <td>Logistic Regression</td>\n",
              "      <td>smote</td>\n",
              "      <td>0.418018</td>\n",
              "      <td>0.661597</td>\n",
              "      <td>0.512330</td>\n",
              "      <td>0.773374</td>\n",
              "    </tr>\n",
              "    <tr>\n",
              "      <th>2</th>\n",
              "      <td>Logistic Regression</td>\n",
              "      <td>adasyn</td>\n",
              "      <td>0.441656</td>\n",
              "      <td>0.669202</td>\n",
              "      <td>0.532124</td>\n",
              "      <td>0.777019</td>\n",
              "    </tr>\n",
              "    <tr>\n",
              "      <th>3</th>\n",
              "      <td>Logistic Regression</td>\n",
              "      <td>smote+tomek</td>\n",
              "      <td>0.413956</td>\n",
              "      <td>0.665399</td>\n",
              "      <td>0.510390</td>\n",
              "      <td>0.769090</td>\n",
              "    </tr>\n",
              "    <tr>\n",
              "      <th>4</th>\n",
              "      <td>Logistic Regression</td>\n",
              "      <td>smote+enn</td>\n",
              "      <td>0.423192</td>\n",
              "      <td>0.673004</td>\n",
              "      <td>0.519633</td>\n",
              "      <td>0.770699</td>\n",
              "    </tr>\n",
              "    <tr>\n",
              "      <th>5</th>\n",
              "      <td>Decision Tree</td>\n",
              "      <td>actual</td>\n",
              "      <td>0.651934</td>\n",
              "      <td>0.448669</td>\n",
              "      <td>0.531532</td>\n",
              "      <td>0.811298</td>\n",
              "    </tr>\n",
              "    <tr>\n",
              "      <th>6</th>\n",
              "      <td>Decision Tree</td>\n",
              "      <td>smote</td>\n",
              "      <td>0.400349</td>\n",
              "      <td>0.654943</td>\n",
              "      <td>0.496935</td>\n",
              "      <td>0.771054</td>\n",
              "    </tr>\n",
              "    <tr>\n",
              "      <th>7</th>\n",
              "      <td>Decision Tree</td>\n",
              "      <td>adasyn</td>\n",
              "      <td>0.424773</td>\n",
              "      <td>0.668251</td>\n",
              "      <td>0.519394</td>\n",
              "      <td>0.790325</td>\n",
              "    </tr>\n",
              "    <tr>\n",
              "      <th>8</th>\n",
              "      <td>Decision Tree</td>\n",
              "      <td>smote+tomek</td>\n",
              "      <td>0.413295</td>\n",
              "      <td>0.679658</td>\n",
              "      <td>0.514019</td>\n",
              "      <td>0.797212</td>\n",
              "    </tr>\n",
              "    <tr>\n",
              "      <th>9</th>\n",
              "      <td>Decision Tree</td>\n",
              "      <td>smote+enn</td>\n",
              "      <td>0.340880</td>\n",
              "      <td>0.758555</td>\n",
              "      <td>0.470380</td>\n",
              "      <td>0.784499</td>\n",
              "    </tr>\n",
              "    <tr>\n",
              "      <th>10</th>\n",
              "      <td>Random Forest</td>\n",
              "      <td>actual</td>\n",
              "      <td>0.735294</td>\n",
              "      <td>0.427757</td>\n",
              "      <td>0.540865</td>\n",
              "      <td>0.837577</td>\n",
              "    </tr>\n",
              "    <tr>\n",
              "      <th>11</th>\n",
              "      <td>Random Forest</td>\n",
              "      <td>smote</td>\n",
              "      <td>0.465823</td>\n",
              "      <td>0.699620</td>\n",
              "      <td>0.559271</td>\n",
              "      <td>0.818133</td>\n",
              "    </tr>\n",
              "    <tr>\n",
              "      <th>12</th>\n",
              "      <td>Random Forest</td>\n",
              "      <td>adasyn</td>\n",
              "      <td>0.483827</td>\n",
              "      <td>0.682510</td>\n",
              "      <td>0.566246</td>\n",
              "      <td>0.818655</td>\n",
              "    </tr>\n",
              "    <tr>\n",
              "      <th>13</th>\n",
              "      <td>Random Forest</td>\n",
              "      <td>smote+tomek</td>\n",
              "      <td>0.476782</td>\n",
              "      <td>0.692966</td>\n",
              "      <td>0.564897</td>\n",
              "      <td>0.821340</td>\n",
              "    </tr>\n",
              "    <tr>\n",
              "      <th>14</th>\n",
              "      <td>Random Forest</td>\n",
              "      <td>smote+enn</td>\n",
              "      <td>0.368421</td>\n",
              "      <td>0.765209</td>\n",
              "      <td>0.497374</td>\n",
              "      <td>0.799116</td>\n",
              "    </tr>\n",
              "  </tbody>\n",
              "</table>\n",
              "</div>\n",
              "      <button class=\"colab-df-convert\" onclick=\"convertToInteractive('df-e1384d3c-52ff-41a5-9182-ede0f6dc440c')\"\n",
              "              title=\"Convert this dataframe to an interactive table.\"\n",
              "              style=\"display:none;\">\n",
              "        \n",
              "  <svg xmlns=\"http://www.w3.org/2000/svg\" height=\"24px\"viewBox=\"0 0 24 24\"\n",
              "       width=\"24px\">\n",
              "    <path d=\"M0 0h24v24H0V0z\" fill=\"none\"/>\n",
              "    <path d=\"M18.56 5.44l.94 2.06.94-2.06 2.06-.94-2.06-.94-.94-2.06-.94 2.06-2.06.94zm-11 1L8.5 8.5l.94-2.06 2.06-.94-2.06-.94L8.5 2.5l-.94 2.06-2.06.94zm10 10l.94 2.06.94-2.06 2.06-.94-2.06-.94-.94-2.06-.94 2.06-2.06.94z\"/><path d=\"M17.41 7.96l-1.37-1.37c-.4-.4-.92-.59-1.43-.59-.52 0-1.04.2-1.43.59L10.3 9.45l-7.72 7.72c-.78.78-.78 2.05 0 2.83L4 21.41c.39.39.9.59 1.41.59.51 0 1.02-.2 1.41-.59l7.78-7.78 2.81-2.81c.8-.78.8-2.07 0-2.86zM5.41 20L4 18.59l7.72-7.72 1.47 1.35L5.41 20z\"/>\n",
              "  </svg>\n",
              "      </button>\n",
              "      \n",
              "  <style>\n",
              "    .colab-df-container {\n",
              "      display:flex;\n",
              "      flex-wrap:wrap;\n",
              "      gap: 12px;\n",
              "    }\n",
              "\n",
              "    .colab-df-convert {\n",
              "      background-color: #E8F0FE;\n",
              "      border: none;\n",
              "      border-radius: 50%;\n",
              "      cursor: pointer;\n",
              "      display: none;\n",
              "      fill: #1967D2;\n",
              "      height: 32px;\n",
              "      padding: 0 0 0 0;\n",
              "      width: 32px;\n",
              "    }\n",
              "\n",
              "    .colab-df-convert:hover {\n",
              "      background-color: #E2EBFA;\n",
              "      box-shadow: 0px 1px 2px rgba(60, 64, 67, 0.3), 0px 1px 3px 1px rgba(60, 64, 67, 0.15);\n",
              "      fill: #174EA6;\n",
              "    }\n",
              "\n",
              "    [theme=dark] .colab-df-convert {\n",
              "      background-color: #3B4455;\n",
              "      fill: #D2E3FC;\n",
              "    }\n",
              "\n",
              "    [theme=dark] .colab-df-convert:hover {\n",
              "      background-color: #434B5C;\n",
              "      box-shadow: 0px 1px 3px 1px rgba(0, 0, 0, 0.15);\n",
              "      filter: drop-shadow(0px 1px 2px rgba(0, 0, 0, 0.3));\n",
              "      fill: #FFFFFF;\n",
              "    }\n",
              "  </style>\n",
              "\n",
              "      <script>\n",
              "        const buttonEl =\n",
              "          document.querySelector('#df-e1384d3c-52ff-41a5-9182-ede0f6dc440c button.colab-df-convert');\n",
              "        buttonEl.style.display =\n",
              "          google.colab.kernel.accessAllowed ? 'block' : 'none';\n",
              "\n",
              "        async function convertToInteractive(key) {\n",
              "          const element = document.querySelector('#df-e1384d3c-52ff-41a5-9182-ede0f6dc440c');\n",
              "          const dataTable =\n",
              "            await google.colab.kernel.invokeFunction('convertToInteractive',\n",
              "                                                     [key], {});\n",
              "          if (!dataTable) return;\n",
              "\n",
              "          const docLinkHtml = 'Like what you see? Visit the ' +\n",
              "            '<a target=\"_blank\" href=https://colab.research.google.com/notebooks/data_table.ipynb>data table notebook</a>'\n",
              "            + ' to learn more about interactive tables.';\n",
              "          element.innerHTML = '';\n",
              "          dataTable['output_type'] = 'display_data';\n",
              "          await google.colab.output.renderOutput(dataTable, element);\n",
              "          const docLink = document.createElement('div');\n",
              "          docLink.innerHTML = docLinkHtml;\n",
              "          element.appendChild(docLink);\n",
              "        }\n",
              "      </script>\n",
              "    </div>\n",
              "  </div>\n",
              "  "
            ]
          },
          "metadata": {},
          "execution_count": 61
        }
      ]
    },
    {
      "cell_type": "code",
      "source": [
        "sns.set(font_scale=1.2)\n",
        "#sns.palplot(sns.color_palette())\n",
        "g = sns.FacetGrid(clf_eval_df, col=\"model\", height=5)\n",
        "g.map(sns.barplot, \"resample\", \"recall\", palette='twilight', order=[\"actual\", \"smote\", \"adasyn\", \"smote+tomek\", \"smote+enn\"])\n",
        "g.set_xticklabels(rotation=30)\n",
        "g.set_xlabels(' ', fontsize=14)\n",
        "g.set_ylabels('Recall', fontsize=14)"
      ],
      "metadata": {
        "colab": {
          "base_uri": "https://localhost:8080/",
          "height": 422
        },
        "id": "zcDsVacg9DA9",
        "outputId": "de8a8793-b549-4d54-bfb4-d95919cc46b5"
      },
      "id": "zcDsVacg9DA9",
      "execution_count": null,
      "outputs": [
        {
          "output_type": "execute_result",
          "data": {
            "text/plain": [
              "<seaborn.axisgrid.FacetGrid at 0x7fe6f25ff790>"
            ]
          },
          "metadata": {},
          "execution_count": 62
        },
        {
          "output_type": "display_data",
          "data": {
            "text/plain": [
              "<Figure size 1080x360 with 3 Axes>"
            ],
            "image/png": "[encoded data removed]"
          },
          "metadata": {}
        }
      ]
    },
    {
      "cell_type": "code",
      "source": [
        ""
      ],
      "metadata": {
        "id": "_X08uK2_9FKH"
      },
      "id": "_X08uK2_9FKH",
      "execution_count": null,
      "outputs": []
    }
  ],
  "metadata": {
    "kernelspec": {
      "display_name": "Python 3",
      "language": "python",
      "name": "python3"
    },
    "language_info": {
      "codemirror_mode": {
        "name": "ipython",
        "version": 3
      },
      "file_extension": ".py",
      "mimetype": "text/x-python",
      "name": "python",
      "nbconvert_exporter": "python",
      "pygments_lexer": "ipython3",
      "version": "3.8.8"
    },
    "colab": {
      "name": "Churn prediction.ipynb",
      "provenance": []
    }
  },
  "nbformat": 4,
  "nbformat_minor": 5
}